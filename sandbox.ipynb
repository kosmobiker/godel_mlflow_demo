{
 "cells": [
  {
   "cell_type": "code",
   "execution_count": 1,
   "metadata": {},
   "outputs": [],
   "source": [
    "import pandas as pd\n",
    "import awswrangler as wr\n",
    "\n",
    "from sklearn.model_selection import train_test_split\n",
    "from sklearn.pipeline import Pipeline\n",
    "from sklearn.compose import ColumnTransformer\n",
    "from sklearn.metrics import mean_absolute_error, mean_squared_error, mean_absolute_percentage_error\n",
    "from sklearn.pipeline import make_pipeline\n",
    "from sklearn.preprocessing import StandardScaler\n",
    "\n",
    "import sklearn\n",
    "from sklearn.experimental import enable_iterative_imputer\n",
    "from sklearn.impute import IterativeImputer, SimpleImputer\n",
    "from sklearn.preprocessing import OneHotEncoder, StandardScaler\n",
    "\n",
    "from sklearn.linear_model import Ridge\n",
    "from sklearn.ensemble import RandomForestRegressor\n",
    "from sklearn.svm import LinearSVR\n",
    "from sklearn.neighbors import KNeighborsRegressor\n",
    "\n",
    "\n",
    "from sklearn.model_selection import cross_validate\n",
    "\n",
    "pd.set_option('display.max_columns', None)\n",
    "pd.set_option('display.float_format', lambda x: '%.3f' % x)\n",
    "pd.options.mode.chained_assignment = None \n",
    "\n",
    "import mlflow\n",
    "\n",
    "\n",
    "SEED = 42"
   ]
  },
  {
   "cell_type": "code",
   "execution_count": 2,
   "metadata": {},
   "outputs": [
    {
     "name": "stdout",
     "output_type": "stream",
     "text": [
      "Pandas version is 1.5.3\n",
      "Scikit-learn version is 1.2.2\n",
      "MLflow version is 2.2.2\n"
     ]
    }
   ],
   "source": [
    "print(f\"Pandas version is {pd.__version__}\")\n",
    "print(f\"Scikit-learn version is {sklearn.__version__}\")\n",
    "print(f\"MLflow version is {mlflow.__version__}\")"
   ]
  },
  {
   "cell_type": "code",
   "execution_count": 3,
   "metadata": {},
   "outputs": [
    {
     "name": "stderr",
     "output_type": "stream",
     "text": [
      "2023/04/16 19:19:46 INFO mlflow.tracking.fluent: Experiment with name 'godel-cozy-ds' does not exist. Creating a new experiment.\n"
     ]
    },
    {
     "data": {
      "text/plain": [
       "<Experiment: artifact_location='file:///c:/Users/u.darhevich/Documents/godel_mlflow_demo/mlruns/993004040168716830', creation_time=1681665586748, experiment_id='993004040168716830', last_update_time=1681665586748, lifecycle_stage='active', name='godel-cozy-ds', tags={}>"
      ]
     },
     "execution_count": 3,
     "metadata": {},
     "output_type": "execute_result"
    }
   ],
   "source": [
    "TRACKING_SERVER_HOST = \"ec2-34-250-13-150.eu-west-1.compute.amazonaws.com\" # fill in with the public DNS of the EC2 instance\n",
    "mlflow.set_tracking_uri(f\"http://{TRACKING_SERVER_HOST}:5000\")\n",
    "mlflow.set_experiment(\"godel-cozy-ds\")"
   ]
  },
  {
   "cell_type": "code",
   "execution_count": 21,
   "metadata": {},
   "outputs": [
    {
     "name": "stdout",
     "output_type": "stream",
     "text": [
      "tracking URI: 'http://ec2-34-250-13-150.eu-west-1.compute.amazonaws.com:5000'\n"
     ]
    }
   ],
   "source": [
    "print(f\"tracking URI: '{mlflow.get_tracking_uri()}'\")"
   ]
  },
  {
   "cell_type": "code",
   "execution_count": 3,
   "metadata": {},
   "outputs": [],
   "source": [
    "path1 = 's3://test-bucket-vlad-godel/data/olx_house_price_Q122.csv'\n",
    "\n",
    "df = wr.s3.read_csv([path1], encoding='utf_8')"
   ]
  },
  {
   "cell_type": "code",
   "execution_count": 4,
   "metadata": {},
   "outputs": [
    {
     "data": {
      "text/html": [
       "<div>\n",
       "<style scoped>\n",
       "    .dataframe tbody tr th:only-of-type {\n",
       "        vertical-align: middle;\n",
       "    }\n",
       "\n",
       "    .dataframe tbody tr th {\n",
       "        vertical-align: top;\n",
       "    }\n",
       "\n",
       "    .dataframe thead th {\n",
       "        text-align: right;\n",
       "    }\n",
       "</style>\n",
       "<table border=\"1\" class=\"dataframe\">\n",
       "  <thead>\n",
       "    <tr style=\"text-align: right;\">\n",
       "      <th></th>\n",
       "      <th>offer_title</th>\n",
       "      <th>price</th>\n",
       "      <th>price_per_meter</th>\n",
       "      <th>offer_type</th>\n",
       "      <th>floor</th>\n",
       "      <th>area</th>\n",
       "      <th>rooms</th>\n",
       "      <th>offer_type_of_building</th>\n",
       "      <th>market</th>\n",
       "      <th>city_name</th>\n",
       "      <th>voivodeship</th>\n",
       "      <th>month</th>\n",
       "      <th>year</th>\n",
       "      <th>population</th>\n",
       "      <th>longitude</th>\n",
       "      <th>latitude</th>\n",
       "    </tr>\n",
       "  </thead>\n",
       "  <tbody>\n",
       "    <tr>\n",
       "      <th>0</th>\n",
       "      <td>Kawalerka na sprzedaĹĽ</td>\n",
       "      <td>240000.000</td>\n",
       "      <td>8888.890</td>\n",
       "      <td>Private</td>\n",
       "      <td>1.000</td>\n",
       "      <td>27.000</td>\n",
       "      <td>1</td>\n",
       "      <td>Housing Block</td>\n",
       "      <td>primary</td>\n",
       "      <td>BolesĹ‚awiec</td>\n",
       "      <td>Lower Silesia</td>\n",
       "      <td>January</td>\n",
       "      <td>2022</td>\n",
       "      <td>39603</td>\n",
       "      <td>15.565</td>\n",
       "      <td>51.263</td>\n",
       "    </tr>\n",
       "    <tr>\n",
       "      <th>1</th>\n",
       "      <td>Nowoczesna kawalerka z winda plus garaĹĽ podzi...</td>\n",
       "      <td>250000.000</td>\n",
       "      <td>7142.860</td>\n",
       "      <td>Private</td>\n",
       "      <td>1.000</td>\n",
       "      <td>35.000</td>\n",
       "      <td>1</td>\n",
       "      <td>Housing Block</td>\n",
       "      <td>primary</td>\n",
       "      <td>Jelcz-Laskowice</td>\n",
       "      <td>Lower Silesia</td>\n",
       "      <td>January</td>\n",
       "      <td>2022</td>\n",
       "      <td>15828</td>\n",
       "      <td>17.350</td>\n",
       "      <td>51.040</td>\n",
       "    </tr>\n",
       "    <tr>\n",
       "      <th>2</th>\n",
       "      <td>Nowa kawalerka z Balkonem/Legnicka/Magnolia</td>\n",
       "      <td>259000.000</td>\n",
       "      <td>10360.000</td>\n",
       "      <td>Estate Agency</td>\n",
       "      <td>2.000</td>\n",
       "      <td>25.000</td>\n",
       "      <td>1</td>\n",
       "      <td>Housing Block</td>\n",
       "      <td>primary</td>\n",
       "      <td>WrocĹ‚aw</td>\n",
       "      <td>Lower Silesia</td>\n",
       "      <td>January</td>\n",
       "      <td>2022</td>\n",
       "      <td>634487</td>\n",
       "      <td>17.033</td>\n",
       "      <td>51.109</td>\n",
       "    </tr>\n",
       "    <tr>\n",
       "      <th>3</th>\n",
       "      <td>Kawalerka z balkonem/klucze I kwartaĹ‚ 2022/60...</td>\n",
       "      <td>269000.000</td>\n",
       "      <td>10275.020</td>\n",
       "      <td>Private</td>\n",
       "      <td>3.000</td>\n",
       "      <td>26.180</td>\n",
       "      <td>1</td>\n",
       "      <td>Apartment Building</td>\n",
       "      <td>primary</td>\n",
       "      <td>WrocĹ‚aw</td>\n",
       "      <td>Lower Silesia</td>\n",
       "      <td>January</td>\n",
       "      <td>2022</td>\n",
       "      <td>634487</td>\n",
       "      <td>17.033</td>\n",
       "      <td>51.109</td>\n",
       "    </tr>\n",
       "    <tr>\n",
       "      <th>4</th>\n",
       "      <td>40 tys. taniej od dewelopera/Kawalerka/Magnoli...</td>\n",
       "      <td>258000.000</td>\n",
       "      <td>9923.080</td>\n",
       "      <td>Estate Agency</td>\n",
       "      <td>3.000</td>\n",
       "      <td>26.000</td>\n",
       "      <td>1</td>\n",
       "      <td>Housing Block</td>\n",
       "      <td>primary</td>\n",
       "      <td>WrocĹ‚aw</td>\n",
       "      <td>Lower Silesia</td>\n",
       "      <td>January</td>\n",
       "      <td>2022</td>\n",
       "      <td>634487</td>\n",
       "      <td>17.033</td>\n",
       "      <td>51.109</td>\n",
       "    </tr>\n",
       "    <tr>\n",
       "      <th>5</th>\n",
       "      <td>Mieszkanie na start</td>\n",
       "      <td>255000.000</td>\n",
       "      <td>11283.190</td>\n",
       "      <td>Private</td>\n",
       "      <td>3.000</td>\n",
       "      <td>22.600</td>\n",
       "      <td>1</td>\n",
       "      <td>Housing Block</td>\n",
       "      <td>primary</td>\n",
       "      <td>WrocĹ‚aw</td>\n",
       "      <td>Lower Silesia</td>\n",
       "      <td>January</td>\n",
       "      <td>2022</td>\n",
       "      <td>634487</td>\n",
       "      <td>17.033</td>\n",
       "      <td>51.109</td>\n",
       "    </tr>\n",
       "    <tr>\n",
       "      <th>6</th>\n",
       "      <td>Okazja! Na sprzedaĹĽ nowa kawalerka przy Odrze...</td>\n",
       "      <td>416120.000</td>\n",
       "      <td>12975.370</td>\n",
       "      <td>Estate Agency</td>\n",
       "      <td>5.000</td>\n",
       "      <td>32.070</td>\n",
       "      <td>1</td>\n",
       "      <td>Apartment Building</td>\n",
       "      <td>primary</td>\n",
       "      <td>WrocĹ‚aw</td>\n",
       "      <td>Lower Silesia</td>\n",
       "      <td>January</td>\n",
       "      <td>2022</td>\n",
       "      <td>634487</td>\n",
       "      <td>17.033</td>\n",
       "      <td>51.109</td>\n",
       "    </tr>\n",
       "    <tr>\n",
       "      <th>7</th>\n",
       "      <td>Bulwary Staromiejskie, kawalerka z balkonem wi...</td>\n",
       "      <td>275900.000</td>\n",
       "      <td>14913.510</td>\n",
       "      <td>Estate Agency</td>\n",
       "      <td>4.000</td>\n",
       "      <td>18.500</td>\n",
       "      <td>1</td>\n",
       "      <td>Apartment Building</td>\n",
       "      <td>primary</td>\n",
       "      <td>WrocĹ‚aw</td>\n",
       "      <td>Lower Silesia</td>\n",
       "      <td>January</td>\n",
       "      <td>2022</td>\n",
       "      <td>634487</td>\n",
       "      <td>17.033</td>\n",
       "      <td>51.109</td>\n",
       "    </tr>\n",
       "    <tr>\n",
       "      <th>8</th>\n",
       "      <td>B Urban - Kawalerki inwestycyjne pod wynajem</td>\n",
       "      <td>201000.000</td>\n",
       "      <td>8040.000</td>\n",
       "      <td>Estate Agency</td>\n",
       "      <td>NaN</td>\n",
       "      <td>NaN</td>\n",
       "      <td>1</td>\n",
       "      <td>NaN</td>\n",
       "      <td>primary</td>\n",
       "      <td>WrocĹ‚aw</td>\n",
       "      <td>Lower Silesia</td>\n",
       "      <td>January</td>\n",
       "      <td>2022</td>\n",
       "      <td>634487</td>\n",
       "      <td>17.033</td>\n",
       "      <td>51.109</td>\n",
       "    </tr>\n",
       "    <tr>\n",
       "      <th>9</th>\n",
       "      <td>Sprzedam punkt w Pasazu ZieliĹ„skiego</td>\n",
       "      <td>1000.000</td>\n",
       "      <td>100.000</td>\n",
       "      <td>Private</td>\n",
       "      <td>0.000</td>\n",
       "      <td>10.000</td>\n",
       "      <td>1</td>\n",
       "      <td>Other</td>\n",
       "      <td>primary</td>\n",
       "      <td>WrocĹ‚aw</td>\n",
       "      <td>Lower Silesia</td>\n",
       "      <td>January</td>\n",
       "      <td>2022</td>\n",
       "      <td>634487</td>\n",
       "      <td>17.033</td>\n",
       "      <td>51.109</td>\n",
       "    </tr>\n",
       "  </tbody>\n",
       "</table>\n",
       "</div>"
      ],
      "text/plain": [
       "                                         offer_title      price  \\\n",
       "0                             Kawalerka na sprzedaĹĽ 240000.000   \n",
       "1  Nowoczesna kawalerka z winda plus garaĹĽ podzi... 250000.000   \n",
       "2        Nowa kawalerka z Balkonem/Legnicka/Magnolia 259000.000   \n",
       "3  Kawalerka z balkonem/klucze I kwartaĹ‚ 2022/60... 269000.000   \n",
       "4  40 tys. taniej od dewelopera/Kawalerka/Magnoli... 258000.000   \n",
       "5                                Mieszkanie na start 255000.000   \n",
       "6  Okazja! Na sprzedaĹĽ nowa kawalerka przy Odrze... 416120.000   \n",
       "7  Bulwary Staromiejskie, kawalerka z balkonem wi... 275900.000   \n",
       "8       B Urban - Kawalerki inwestycyjne pod wynajem 201000.000   \n",
       "9              Sprzedam punkt w Pasazu ZieliĹ„skiego   1000.000   \n",
       "\n",
       "   price_per_meter     offer_type  floor   area  rooms offer_type_of_building  \\\n",
       "0         8888.890        Private  1.000 27.000      1          Housing Block   \n",
       "1         7142.860        Private  1.000 35.000      1          Housing Block   \n",
       "2        10360.000  Estate Agency  2.000 25.000      1          Housing Block   \n",
       "3        10275.020        Private  3.000 26.180      1     Apartment Building   \n",
       "4         9923.080  Estate Agency  3.000 26.000      1          Housing Block   \n",
       "5        11283.190        Private  3.000 22.600      1          Housing Block   \n",
       "6        12975.370  Estate Agency  5.000 32.070      1     Apartment Building   \n",
       "7        14913.510  Estate Agency  4.000 18.500      1     Apartment Building   \n",
       "8         8040.000  Estate Agency    NaN    NaN      1                    NaN   \n",
       "9          100.000        Private  0.000 10.000      1                  Other   \n",
       "\n",
       "    market        city_name    voivodeship    month  year  population  \\\n",
       "0  primary     BolesĹ‚awiec  Lower Silesia  January  2022       39603   \n",
       "1  primary  Jelcz-Laskowice  Lower Silesia  January  2022       15828   \n",
       "2  primary         WrocĹ‚aw  Lower Silesia  January  2022      634487   \n",
       "3  primary         WrocĹ‚aw  Lower Silesia  January  2022      634487   \n",
       "4  primary         WrocĹ‚aw  Lower Silesia  January  2022      634487   \n",
       "5  primary         WrocĹ‚aw  Lower Silesia  January  2022      634487   \n",
       "6  primary         WrocĹ‚aw  Lower Silesia  January  2022      634487   \n",
       "7  primary         WrocĹ‚aw  Lower Silesia  January  2022      634487   \n",
       "8  primary         WrocĹ‚aw  Lower Silesia  January  2022      634487   \n",
       "9  primary         WrocĹ‚aw  Lower Silesia  January  2022      634487   \n",
       "\n",
       "   longitude  latitude  \n",
       "0     15.565    51.263  \n",
       "1     17.350    51.040  \n",
       "2     17.033    51.109  \n",
       "3     17.033    51.109  \n",
       "4     17.033    51.109  \n",
       "5     17.033    51.109  \n",
       "6     17.033    51.109  \n",
       "7     17.033    51.109  \n",
       "8     17.033    51.109  \n",
       "9     17.033    51.109  "
      ]
     },
     "execution_count": 4,
     "metadata": {},
     "output_type": "execute_result"
    }
   ],
   "source": [
    "df.head(10)"
   ]
  },
  {
   "cell_type": "code",
   "execution_count": 5,
   "metadata": {},
   "outputs": [
    {
     "data": {
      "text/plain": [
       "count       62818.000\n",
       "mean       399405.855\n",
       "std       2023250.514\n",
       "min             1.000\n",
       "25%        260000.000\n",
       "50%        345000.000\n",
       "75%        460000.000\n",
       "max     504151616.000\n",
       "Name: price, dtype: float64"
      ]
     },
     "execution_count": 5,
     "metadata": {},
     "output_type": "execute_result"
    }
   ],
   "source": [
    "df['price'].describe()"
   ]
  },
  {
   "cell_type": "code",
   "execution_count": 6,
   "metadata": {},
   "outputs": [
    {
     "data": {
      "text/plain": [
       "(62818, 16)"
      ]
     },
     "execution_count": 6,
     "metadata": {},
     "output_type": "execute_result"
    }
   ],
   "source": [
    "df.shape"
   ]
  },
  {
   "cell_type": "code",
   "execution_count": 7,
   "metadata": {},
   "outputs": [
    {
     "data": {
      "text/plain": [
       "offer_title                object\n",
       "price                     float64\n",
       "price_per_meter           float64\n",
       "offer_type                 object\n",
       "floor                     float64\n",
       "area                      float64\n",
       "rooms                       int64\n",
       "offer_type_of_building     object\n",
       "market                     object\n",
       "city_name                  object\n",
       "voivodeship                object\n",
       "month                      object\n",
       "year                        int64\n",
       "population                  int64\n",
       "longitude                 float64\n",
       "latitude                  float64\n",
       "dtype: object"
      ]
     },
     "execution_count": 7,
     "metadata": {},
     "output_type": "execute_result"
    }
   ],
   "source": [
    "df.dtypes"
   ]
  },
  {
   "cell_type": "code",
   "execution_count": 8,
   "metadata": {},
   "outputs": [
    {
     "data": {
      "text/plain": [
       "offer_title                  0\n",
       "price                        0\n",
       "price_per_meter              0\n",
       "offer_type                   0\n",
       "floor                     1487\n",
       "area                      1487\n",
       "rooms                        0\n",
       "offer_type_of_building    1487\n",
       "market                       0\n",
       "city_name                    0\n",
       "voivodeship                  0\n",
       "month                        0\n",
       "year                         0\n",
       "population                   0\n",
       "longitude                    0\n",
       "latitude                     0\n",
       "dtype: int64"
      ]
     },
     "execution_count": 8,
     "metadata": {},
     "output_type": "execute_result"
    }
   ],
   "source": [
    "df.isna().sum()"
   ]
  },
  {
   "cell_type": "code",
   "execution_count": 9,
   "metadata": {},
   "outputs": [],
   "source": [
    "categorical_features = ['offer_type', 'offer_type_of_building',\n",
    "                        'market', 'voivodeship', 'month']\n",
    "\n",
    "numeric_features = ['floor', 'area', 'rooms', 'longitude', 'latitude']"
   ]
  },
  {
   "cell_type": "code",
   "execution_count": 10,
   "metadata": {},
   "outputs": [],
   "source": [
    "df = df[(df[\"price\"] <= df[\"price\"].quantile(0.95)) & (df[\"price\"] >= df[\"price\"].quantile(0.05))]"
   ]
  },
  {
   "cell_type": "code",
   "execution_count": 11,
   "metadata": {},
   "outputs": [],
   "source": [
    "categorical_transformer = Pipeline(steps=[\n",
    "        ('imputer', SimpleImputer(strategy='constant', fill_value='missing')),\n",
    "        ('encoder', OneHotEncoder(drop='first', sparse_output=False, handle_unknown='infrequent_if_exist', min_frequency=2000))\n",
    "            ])\n",
    "\n",
    "numeric_transformer = Pipeline(steps=[\n",
    "        ('imputer', IterativeImputer(initial_strategy='mean', max_iter=5, random_state=SEED, verbose=0)),\n",
    "        ('scaler' , StandardScaler())\n",
    "            ])\n",
    "\n",
    "preprocessor = ColumnTransformer(\n",
    "    transformers=[\n",
    "        (\"num\", numeric_transformer, numeric_features),\n",
    "        (\"cat\", categorical_transformer, categorical_features),\n",
    "    ])\n",
    "\n",
    "y = df[\"price\"]\n",
    "X_train, X_test, y_train, y_test= train_test_split(df, y, test_size=0.2, random_state=SEED)\n",
    "\n",
    "X_train_transformed = preprocessor.fit_transform(X_train)\n",
    "X_test_transformed = preprocessor.transform(X_test)\n",
    "feature_names = preprocessor.get_feature_names_out()"
   ]
  },
  {
   "cell_type": "code",
   "execution_count": 12,
   "metadata": {},
   "outputs": [
    {
     "data": {
      "text/plain": [
       "array(['num__floor', 'num__area', 'num__rooms', 'num__longitude',\n",
       "       'num__latitude', 'cat__offer_type_Private',\n",
       "       'cat__offer_type_of_building_Housing Block',\n",
       "       'cat__offer_type_of_building_Tenement',\n",
       "       'cat__offer_type_of_building_infrequent_sklearn',\n",
       "       'cat__market_primary', 'cat__voivodeship_Kuyavia-Pomerania',\n",
       "       'cat__voivodeship_Lesser Poland', 'cat__voivodeship_Lodzkie',\n",
       "       'cat__voivodeship_Lower Silesia', 'cat__voivodeship_Lublin',\n",
       "       'cat__voivodeship_Masovia', 'cat__voivodeship_Pomerania',\n",
       "       'cat__voivodeship_Silesia', 'cat__voivodeship_Warmia-Masuria',\n",
       "       'cat__voivodeship_West Pomerania',\n",
       "       'cat__voivodeship_infrequent_sklearn', 'cat__month_January',\n",
       "       'cat__month_March'], dtype=object)"
      ]
     },
     "execution_count": 12,
     "metadata": {},
     "output_type": "execute_result"
    }
   ],
   "source": [
    "feature_names"
   ]
  },
  {
   "cell_type": "code",
   "execution_count": 13,
   "metadata": {},
   "outputs": [
    {
     "data": {
      "text/plain": [
       "((45235, 23), (11309, 23))"
      ]
     },
     "execution_count": 13,
     "metadata": {},
     "output_type": "execute_result"
    }
   ],
   "source": [
    "X_train_transformed.shape, X_test_transformed.shape"
   ]
  },
  {
   "cell_type": "code",
   "execution_count": 14,
   "metadata": {},
   "outputs": [],
   "source": [
    "import pickle\n",
    "\n",
    "\n",
    "with open('preprocessor.b', 'wb') as f_out:\n",
    "    pickle.dump(preprocessor, f_out)"
   ]
  },
  {
   "cell_type": "code",
   "execution_count": 15,
   "metadata": {},
   "outputs": [],
   "source": [
    "models = (\n",
    "    [Ridge, \"Ridge\"], \n",
    "    [RandomForestRegressor, \"RForest\"], \n",
    "    [LinearSVR, \"LinearSVR\"], \n",
    "    [KNeighborsRegressor, \"KNN\"]\n",
    ")\n"
   ]
  },
  {
   "cell_type": "code",
   "execution_count": 37,
   "metadata": {},
   "outputs": [
    {
     "name": "stderr",
     "output_type": "stream",
     "text": [
      "2023/04/08 17:00:07 WARNING mlflow.utils.autologging_utils: You are using an unsupported version of sklearn. If you encounter errors during autologging, try upgrading / downgrading sklearn to a supported version, or try upgrading MLflow.\n",
      "c:\\Users\\u.darhevich\\.virtualenvs\\godel_mlflow_demo-XIgl0c0q\\lib\\site-packages\\_distutils_hack\\__init__.py:33: UserWarning: Setuptools is replacing distutils.\n",
      "  warnings.warn(\"Setuptools is replacing distutils.\")\n"
     ]
    },
    {
     "name": "stdout",
     "output_type": "stream",
     "text": [
      "default artifacts URI: 's3://test-bucket-vlad-godel/mlflow_artifacts/8/96df2c3a659d4f35be4e91dd6cfcfb6b/artifacts'\n",
      "default artifacts URI: 's3://test-bucket-vlad-godel/mlflow_artifacts/8/e42c6404447848919a7205190a808ad8/artifacts'\n",
      "default artifacts URI: 's3://test-bucket-vlad-godel/mlflow_artifacts/8/4d63909390ec4c69a6a7a5edcfe33473/artifacts'\n",
      "default artifacts URI: 's3://test-bucket-vlad-godel/mlflow_artifacts/8/310806035cde44759dc8a93951ad9afc/artifacts'\n"
     ]
    }
   ],
   "source": [
    "mlflow.sklearn.autolog()\n",
    "\n",
    "for model_class in models:\n",
    "\n",
    "    with mlflow.start_run():\n",
    "        mlflow.set_tag(\"developer\", \"vlad\")\n",
    "        mlflow.set_tag(\"company\", \"godel\")\n",
    "        mlflow.log_param(\"Train datset size\", X_train_transformed.shape)\n",
    "        mlflow.log_param(\"model\", model_class[1])\n",
    "        estimator = model_class[0]()\n",
    "        cv_results = cross_validate(estimator,\n",
    "                    X_train_transformed, y_train,\n",
    "                    cv=5, n_jobs=-1,\n",
    "                    scoring=('neg_mean_absolute_percentage_error', 'neg_root_mean_squared_error'),\n",
    "                    return_train_score=True\n",
    "                    )\n",
    "        mean_test_mape = cv_results['test_neg_mean_absolute_percentage_error'].mean()\n",
    "        mean_train_mape = cv_results['train_neg_mean_absolute_percentage_error'].mean()\n",
    "        mean_test_rmse = cv_results['test_neg_root_mean_squared_error'].mean()\n",
    "        mean_train_rmse = cv_results['train_neg_root_mean_squared_error'].mean()\n",
    "        mlflow.log_metric(\"mean_test_mape\", mean_test_mape)\n",
    "        mlflow.log_metric(\"mean_train_mape\", mean_train_mape)\n",
    "        mlflow.log_metric(\"mean_test_rmse\", mean_test_rmse)\n",
    "        mlflow.log_metric(\"mean_train_rmse\", mean_train_rmse)\n",
    "\n",
    "        mlflow.sklearn.log_model(estimator, artifact_path=\"models\")\n",
    "        print(f\"default artifacts URI: '{mlflow.get_artifact_uri()}'\")\n",
    "        mlflow.log_artifact(local_path=\"preprocessor.b\", artifact_path=\"models_pickle\")\n",
    "        mlflow.end_run()"
   ]
  },
  {
   "cell_type": "code",
   "execution_count": 38,
   "metadata": {},
   "outputs": [],
   "source": [
    "from mlflow.tracking import MlflowClient\n"
   ]
  },
  {
   "cell_type": "code",
   "execution_count": 39,
   "metadata": {},
   "outputs": [],
   "source": [
    "client = MlflowClient(tracking_uri=f\"http://{TRACKING_SERVER_HOST}:5000\")"
   ]
  },
  {
   "cell_type": "code",
   "execution_count": 72,
   "metadata": {},
   "outputs": [
    {
     "data": {
      "text/plain": [
       "'8'"
      ]
     },
     "execution_count": 72,
     "metadata": {},
     "output_type": "execute_result"
    }
   ],
   "source": [
    "experiment = (\n",
    "    client.search_experiments(filter_string=\"name = 'godel-cozy-ds'\")\n",
    ") \n"
   ]
  },
  {
   "cell_type": "code",
   "execution_count": 76,
   "metadata": {},
   "outputs": [],
   "source": [
    "from mlflow.entities import ViewType\n",
    "\n",
    "\n",
    "runs = client.search_runs(\n",
    "    experiment_ids=experiment[0].experiment_id,\n",
    "    filter_string=\"metrics.mean_test_mape > -0.2\",\n",
    "    run_view_type=ViewType.ACTIVE_ONLY,\n",
    "    max_results=5,\n",
    "    order_by=[\"metrics.mean_test_mape DESC\"]\n",
    ")"
   ]
  },
  {
   "cell_type": "code",
   "execution_count": 80,
   "metadata": {},
   "outputs": [
    {
     "name": "stderr",
     "output_type": "stream",
     "text": [
      "Registered model 'test-model' already exists. Creating a new version of this model...\n",
      "2023/04/08 19:39:06 INFO mlflow.tracking._model_registry.client: Waiting up to 300 seconds for model version to finish creation.                     Model name: test-model, version 2\n",
      "Created version '2' of model 'test-model'.\n"
     ]
    },
    {
     "data": {
      "text/plain": [
       "<ModelVersion: creation_timestamp=1680975542503, current_stage='None', description='', last_updated_timestamp=1680975542503, name='test-model', run_id='e42c6404447848919a7205190a808ad8', run_link='', source='s3://test-bucket-vlad-godel/mlflow_artifacts/8/e42c6404447848919a7205190a808ad8/artifacts/model', status='READY', status_message='', tags={}, user_id='', version='2'>"
      ]
     },
     "execution_count": 80,
     "metadata": {},
     "output_type": "execute_result"
    }
   ],
   "source": [
    "run_id  = runs[0].info.run_id\n",
    "model_uri = f\"runs:/{run_id}/model\"\n",
    "model_name = \"test-model\"\n",
    "mlflow.register_model(model_uri=model_uri, name=model_name)"
   ]
  },
  {
   "cell_type": "code",
   "execution_count": 82,
   "metadata": {},
   "outputs": [
    {
     "data": {
      "text/plain": [
       "<ModelVersion: creation_timestamp=1680975542503, current_stage='Staging', description='', last_updated_timestamp=1680975590702, name='test-model', run_id='e42c6404447848919a7205190a808ad8', run_link='', source='s3://test-bucket-vlad-godel/mlflow_artifacts/8/e42c6404447848919a7205190a808ad8/artifacts/model', status='READY', status_message='', tags={}, user_id='', version='2'>"
      ]
     },
     "execution_count": 82,
     "metadata": {},
     "output_type": "execute_result"
    }
   ],
   "source": [
    "model_version = 2\n",
    "new_stage = \"Staging\"\n",
    "client.transition_model_version_stage(\n",
    "    name=model_name,\n",
    "    version=model_version,\n",
    "    stage=new_stage,\n",
    "    archive_existing_versions=False\n",
    ")"
   ]
  },
  {
   "cell_type": "code",
   "execution_count": 83,
   "metadata": {},
   "outputs": [
    {
     "data": {
      "text/plain": [
       "<ModelVersion: creation_timestamp=1680975542503, current_stage='Staging', description='The model version 2 was transitioned to Staging on 2023-04-08', last_updated_timestamp=1680975622373, name='test-model', run_id='e42c6404447848919a7205190a808ad8', run_link='', source='s3://test-bucket-vlad-godel/mlflow_artifacts/8/e42c6404447848919a7205190a808ad8/artifacts/model', status='READY', status_message='', tags={}, user_id='', version='2'>"
      ]
     },
     "execution_count": 83,
     "metadata": {},
     "output_type": "execute_result"
    }
   ],
   "source": [
    "from datetime import datetime\n",
    "\n",
    "\n",
    "date = datetime.today().date()\n",
    "client.update_model_version(\n",
    "    name=model_name,\n",
    "    version=model_version,\n",
    "    description=f\"The model version {model_version} was transitioned to {new_stage} on {date}\"\n",
    ")"
   ]
  },
  {
   "cell_type": "code",
   "execution_count": 87,
   "metadata": {},
   "outputs": [
    {
     "data": {
      "text/plain": [
       "'c:\\\\Users\\\\u.darhevich\\\\Documents\\\\godel_mlflow_demo\\\\'"
      ]
     },
     "execution_count": 87,
     "metadata": {},
     "output_type": "execute_result"
    }
   ],
   "source": [
    "mlflow.artifacts.download_artifacts(run_id=run_id, dst_path='.')\n"
   ]
  },
  {
   "cell_type": "code",
   "execution_count": 26,
   "metadata": {},
   "outputs": [],
   "source": [
    "import xgboost as xgb\n",
    "import optuna\n",
    "from tqdm import tqdm\n",
    "\n",
    "\n",
    "from sklearn.model_selection import RepeatedKFold"
   ]
  },
  {
   "cell_type": "code",
   "execution_count": 27,
   "metadata": {},
   "outputs": [],
   "source": [
    "dtrain = xgb.DMatrix(X_train_transformed, label=y_train, feature_names=feature_names)\n",
    "dtest = xgb.DMatrix(X_test_transformed, feature_names=feature_names)"
   ]
  },
  {
   "cell_type": "code",
   "execution_count": 33,
   "metadata": {},
   "outputs": [],
   "source": [
    "def objective(trial):\n",
    "    \"\"\"Objective function used to track experiment in Optuna\n",
    "\n",
    "    Args:\n",
    "        trial : a trial used for experiment\n",
    "\n",
    "    Returns:\n",
    "        float: target metric\n",
    "    \"\"\"\n",
    "    param = {\n",
    "        'objective': 'reg:squarederror',\n",
    "        'eval_metric': ['mape', 'rmse'],\n",
    "        'booster': 'gbtree',\n",
    "        'verbosity': 0,\n",
    "        'eta': trial.suggest_float('eta', 0.001, 0.3),\n",
    "        'gamma': trial.suggest_float('gamma', 0.001, 10, log=True),\n",
    "        'max_depth': trial.suggest_int('max_depth', 5, 15),\n",
    "        'subsample': trial.suggest_float('subsample', 0.5, 1.0),\n",
    "        'colsample_bytree': trial.suggest_float('colsample_bytree', 0.5, 1.0),\n",
    "        'min_child_weight': trial.suggest_int('min_child_weight', 1, 100),\n",
    "        'reg_alpha': trial.suggest_float('reg_alpha', 10e-5, 10.0,  log=True),\n",
    "        'reg_lambda': trial.suggest_float('reg_lambda', 10e-5, 10.0, log=True),\n",
    "    }\n",
    "    pruning_callback = optuna.integration.XGBoostPruningCallback(trial, \"test-rmse\")\n",
    "    history = xgb.cv(param, dtrain,\n",
    "                    folds=RepeatedKFold(n_splits=4, n_repeats=2),\n",
    "                    num_boost_round=500,\n",
    "                    early_stopping_rounds=50,\n",
    "                    seed=SEED,\n",
    "                    callbacks=[pruning_callback])\n",
    "    return history['test-rmse-mean'].min()"
   ]
  },
  {
   "cell_type": "code",
   "execution_count": 34,
   "metadata": {},
   "outputs": [
    {
     "name": "stderr",
     "output_type": "stream",
     "text": [
      "\u001b[32m[I 2023-04-18 20:14:26,274]\u001b[0m A new study created in memory with name: xgboost_cv_optimize\u001b[0m\n",
      "\u001b[32m[I 2023-04-18 20:15:51,314]\u001b[0m Trial 0 finished with value: 57658.807234664324 and parameters: {'eta': 0.05430744153044991, 'gamma': 5.89946197834448, 'max_depth': 9, 'subsample': 0.7001389193625145, 'colsample_bytree': 0.7718708337381767, 'min_child_weight': 34, 'reg_alpha': 0.14005479108101337, 'reg_lambda': 0.15109203485913955}. Best is trial 0 with value: 57658.807234664324.\u001b[0m\n",
      "\u001b[32m[I 2023-04-18 20:18:05,822]\u001b[0m Trial 1 finished with value: 54223.09194426981 and parameters: {'eta': 0.2793201990280029, 'gamma': 0.6629936762436845, 'max_depth': 13, 'subsample': 0.5857010554330324, 'colsample_bytree': 0.7568140173700031, 'min_child_weight': 73, 'reg_alpha': 0.0007027783441686488, 'reg_lambda': 0.3209713189059149}. Best is trial 1 with value: 54223.09194426981.\u001b[0m\n",
      "\u001b[32m[I 2023-04-18 20:20:19,973]\u001b[0m Trial 2 finished with value: 55504.8856624805 and parameters: {'eta': 0.15512854411225632, 'gamma': 0.015658086234676964, 'max_depth': 12, 'subsample': 0.6602924762759184, 'colsample_bytree': 0.9003308108644525, 'min_child_weight': 87, 'reg_alpha': 0.0007150926028703937, 'reg_lambda': 0.0062549609668732555}. Best is trial 1 with value: 54223.09194426981.\u001b[0m\n",
      "\u001b[32m[I 2023-04-18 20:23:05,127]\u001b[0m Trial 3 finished with value: 51294.20783439635 and parameters: {'eta': 0.016425927982847685, 'gamma': 0.0013600403955109938, 'max_depth': 13, 'subsample': 0.9978438582941342, 'colsample_bytree': 0.8969543242398894, 'min_child_weight': 6, 'reg_alpha': 0.027399444432129126, 'reg_lambda': 1.2588907658058244}. Best is trial 3 with value: 51294.20783439635.\u001b[0m\n",
      "\u001b[32m[I 2023-04-18 20:24:17,411]\u001b[0m Trial 4 finished with value: 66076.3724158638 and parameters: {'eta': 0.03843859914005139, 'gamma': 2.6775196317562093, 'max_depth': 5, 'subsample': 0.552791610155171, 'colsample_bytree': 0.7203057832823502, 'min_child_weight': 71, 'reg_alpha': 6.837573406468317, 'reg_lambda': 1.5695206577785095}. Best is trial 3 with value: 51294.20783439635.\u001b[0m\n",
      "\u001b[32m[I 2023-04-18 20:24:19,475]\u001b[0m Trial 5 pruned. Trial was pruned at iteration 10.\u001b[0m\n",
      "\u001b[32m[I 2023-04-18 20:24:21,466]\u001b[0m Trial 6 pruned. Trial was pruned at iteration 10.\u001b[0m\n",
      "\u001b[32m[I 2023-04-18 20:24:31,392]\u001b[0m Trial 7 pruned. Trial was pruned at iteration 66.\u001b[0m\n",
      "\u001b[32m[I 2023-04-18 20:24:34,087]\u001b[0m Trial 8 pruned. Trial was pruned at iteration 10.\u001b[0m\n",
      "\u001b[32m[I 2023-04-18 20:24:35,903]\u001b[0m Trial 9 pruned. Trial was pruned at iteration 10.\u001b[0m\n"
     ]
    }
   ],
   "source": [
    "pruner = optuna.pruners.MedianPruner(n_warmup_steps=10)\n",
    "study = optuna.create_study(\n",
    "                    study_name=f\"xgboost_cv_optimize\",\n",
    "                    pruner=pruner,\n",
    "                    direction=\"minimize\")\n",
    "study.optimize(objective, n_trials=10, timeout=25*60)"
   ]
  },
  {
   "cell_type": "code",
   "execution_count": 43,
   "metadata": {},
   "outputs": [
    {
     "name": "stdout",
     "output_type": "stream",
     "text": [
      "Object `trial` not found.\n"
     ]
    }
   ],
   "source": [
    "?trial"
   ]
  },
  {
   "cell_type": "code",
   "execution_count": null,
   "metadata": {},
   "outputs": [],
   "source": []
  }
 ],
 "metadata": {
  "kernelspec": {
   "display_name": "godel_mlflow_demo-XIgl0c0q",
   "language": "python",
   "name": "python3"
  },
  "language_info": {
   "codemirror_mode": {
    "name": "ipython",
    "version": 3
   },
   "file_extension": ".py",
   "mimetype": "text/x-python",
   "name": "python",
   "nbconvert_exporter": "python",
   "pygments_lexer": "ipython3",
   "version": "3.9.4"
  },
  "orig_nbformat": 4
 },
 "nbformat": 4,
 "nbformat_minor": 2
}
