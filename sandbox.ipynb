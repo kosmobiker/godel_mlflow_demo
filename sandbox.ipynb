{
 "cells": [
  {
   "cell_type": "code",
   "execution_count": 34,
   "metadata": {},
   "outputs": [],
   "source": [
    "import pandas as pd\n",
    "import awswrangler as wr\n",
    "\n",
    "from sklearn.model_selection import train_test_split\n",
    "from sklearn.pipeline import Pipeline\n",
    "from sklearn.compose import ColumnTransformer\n",
    "from sklearn.metrics import mean_absolute_error, mean_squared_error, mean_absolute_percentage_error\n",
    "from sklearn.pipeline import make_pipeline\n",
    "from sklearn.preprocessing import StandardScaler\n",
    "\n",
    "import sklearn\n",
    "from sklearn.experimental import enable_iterative_imputer\n",
    "from sklearn.impute import IterativeImputer, SimpleImputer\n",
    "from sklearn.preprocessing import OneHotEncoder, StandardScaler\n",
    "\n",
    "from sklearn.linear_model import Ridge\n",
    "from sklearn.ensemble import RandomForestRegressor\n",
    "from sklearn.svm import LinearSVR\n",
    "from sklearn.neighbors import KNeighborsRegressor\n",
    "\n",
    "\n",
    "from sklearn.model_selection import cross_validate\n",
    "\n",
    "pd.set_option('display.max_columns', None)\n",
    "pd.set_option('display.float_format', lambda x: '%.3f' % x)\n",
    "pd.options.mode.chained_assignment = None \n",
    "\n",
    "import mlflow\n",
    "\n",
    "\n",
    "SEED = 42"
   ]
  },
  {
   "cell_type": "code",
   "execution_count": 35,
   "metadata": {},
   "outputs": [
    {
     "name": "stdout",
     "output_type": "stream",
     "text": [
      "Pandas version is 1.5.1\n",
      "Scikit-learn version is 1.2.2\n",
      "MLflow version is 2.2.2\n"
     ]
    }
   ],
   "source": [
    "print(f\"Pandas version is {pd.__version__}\")\n",
    "print(f\"Scikit-learn version is {sklearn.__version__}\")\n",
    "print(f\"MLflow version is {mlflow.__version__}\")"
   ]
  },
  {
   "cell_type": "code",
   "execution_count": 36,
   "metadata": {},
   "outputs": [],
   "source": [
    "TRACKING_SERVER_HOST = \"ec2-34-250-13-150.eu-west-1.compute.amazonaws.com\" # fill in with the public DNS of the EC2 instance\n",
    "mlflow.set_tracking_uri(f\"http://{TRACKING_SERVER_HOST}:5000\")"
   ]
  },
  {
   "cell_type": "code",
   "execution_count": 37,
   "metadata": {},
   "outputs": [
    {
     "name": "stdout",
     "output_type": "stream",
     "text": [
      "tracking URI: 'http://ec2-34-250-13-150.eu-west-1.compute.amazonaws.com:5000'\n"
     ]
    }
   ],
   "source": [
    "print(f\"tracking URI: '{mlflow.get_tracking_uri()}'\")"
   ]
  },
  {
   "cell_type": "code",
   "execution_count": 38,
   "metadata": {},
   "outputs": [],
   "source": [
    "path1 = 's3://test-bucket-vlad-godel/data/olx_house_price_Q122.csv'\n",
    "\n",
    "df = wr.s3.read_csv([path1], encoding='utf-8')"
   ]
  },
  {
   "cell_type": "code",
   "execution_count": 39,
   "metadata": {},
   "outputs": [
    {
     "data": {
      "text/html": [
       "<div>\n",
       "<style scoped>\n",
       "    .dataframe tbody tr th:only-of-type {\n",
       "        vertical-align: middle;\n",
       "    }\n",
       "\n",
       "    .dataframe tbody tr th {\n",
       "        vertical-align: top;\n",
       "    }\n",
       "\n",
       "    .dataframe thead th {\n",
       "        text-align: right;\n",
       "    }\n",
       "</style>\n",
       "<table border=\"1\" class=\"dataframe\">\n",
       "  <thead>\n",
       "    <tr style=\"text-align: right;\">\n",
       "      <th></th>\n",
       "      <th>offer_title</th>\n",
       "      <th>price</th>\n",
       "      <th>price_per_meter</th>\n",
       "      <th>offer_type</th>\n",
       "      <th>floor</th>\n",
       "      <th>area</th>\n",
       "      <th>rooms</th>\n",
       "      <th>offer_type_of_building</th>\n",
       "      <th>market</th>\n",
       "      <th>city_name</th>\n",
       "      <th>voivodeship</th>\n",
       "      <th>month</th>\n",
       "      <th>year</th>\n",
       "      <th>population</th>\n",
       "      <th>longitude</th>\n",
       "      <th>latitude</th>\n",
       "    </tr>\n",
       "  </thead>\n",
       "  <tbody>\n",
       "    <tr>\n",
       "      <th>0</th>\n",
       "      <td>Kawalerka na sprzedaĹĽ</td>\n",
       "      <td>240000.000</td>\n",
       "      <td>8888.890</td>\n",
       "      <td>Private</td>\n",
       "      <td>1.000</td>\n",
       "      <td>27.000</td>\n",
       "      <td>1</td>\n",
       "      <td>Housing Block</td>\n",
       "      <td>primary</td>\n",
       "      <td>BolesĹ‚awiec</td>\n",
       "      <td>Lower Silesia</td>\n",
       "      <td>January</td>\n",
       "      <td>2022</td>\n",
       "      <td>39603</td>\n",
       "      <td>15.565</td>\n",
       "      <td>51.263</td>\n",
       "    </tr>\n",
       "    <tr>\n",
       "      <th>1</th>\n",
       "      <td>Nowoczesna kawalerka z winda plus garaĹĽ podzi...</td>\n",
       "      <td>250000.000</td>\n",
       "      <td>7142.860</td>\n",
       "      <td>Private</td>\n",
       "      <td>1.000</td>\n",
       "      <td>35.000</td>\n",
       "      <td>1</td>\n",
       "      <td>Housing Block</td>\n",
       "      <td>primary</td>\n",
       "      <td>Jelcz-Laskowice</td>\n",
       "      <td>Lower Silesia</td>\n",
       "      <td>January</td>\n",
       "      <td>2022</td>\n",
       "      <td>15828</td>\n",
       "      <td>17.350</td>\n",
       "      <td>51.040</td>\n",
       "    </tr>\n",
       "    <tr>\n",
       "      <th>2</th>\n",
       "      <td>Nowa kawalerka z Balkonem/Legnicka/Magnolia</td>\n",
       "      <td>259000.000</td>\n",
       "      <td>10360.000</td>\n",
       "      <td>Estate Agency</td>\n",
       "      <td>2.000</td>\n",
       "      <td>25.000</td>\n",
       "      <td>1</td>\n",
       "      <td>Housing Block</td>\n",
       "      <td>primary</td>\n",
       "      <td>WrocĹ‚aw</td>\n",
       "      <td>Lower Silesia</td>\n",
       "      <td>January</td>\n",
       "      <td>2022</td>\n",
       "      <td>634487</td>\n",
       "      <td>17.033</td>\n",
       "      <td>51.109</td>\n",
       "    </tr>\n",
       "    <tr>\n",
       "      <th>3</th>\n",
       "      <td>Kawalerka z balkonem/klucze I kwartaĹ‚ 2022/60...</td>\n",
       "      <td>269000.000</td>\n",
       "      <td>10275.020</td>\n",
       "      <td>Private</td>\n",
       "      <td>3.000</td>\n",
       "      <td>26.180</td>\n",
       "      <td>1</td>\n",
       "      <td>Apartment Building</td>\n",
       "      <td>primary</td>\n",
       "      <td>WrocĹ‚aw</td>\n",
       "      <td>Lower Silesia</td>\n",
       "      <td>January</td>\n",
       "      <td>2022</td>\n",
       "      <td>634487</td>\n",
       "      <td>17.033</td>\n",
       "      <td>51.109</td>\n",
       "    </tr>\n",
       "    <tr>\n",
       "      <th>4</th>\n",
       "      <td>40 tys. taniej od dewelopera/Kawalerka/Magnoli...</td>\n",
       "      <td>258000.000</td>\n",
       "      <td>9923.080</td>\n",
       "      <td>Estate Agency</td>\n",
       "      <td>3.000</td>\n",
       "      <td>26.000</td>\n",
       "      <td>1</td>\n",
       "      <td>Housing Block</td>\n",
       "      <td>primary</td>\n",
       "      <td>WrocĹ‚aw</td>\n",
       "      <td>Lower Silesia</td>\n",
       "      <td>January</td>\n",
       "      <td>2022</td>\n",
       "      <td>634487</td>\n",
       "      <td>17.033</td>\n",
       "      <td>51.109</td>\n",
       "    </tr>\n",
       "    <tr>\n",
       "      <th>5</th>\n",
       "      <td>Mieszkanie na start</td>\n",
       "      <td>255000.000</td>\n",
       "      <td>11283.190</td>\n",
       "      <td>Private</td>\n",
       "      <td>3.000</td>\n",
       "      <td>22.600</td>\n",
       "      <td>1</td>\n",
       "      <td>Housing Block</td>\n",
       "      <td>primary</td>\n",
       "      <td>WrocĹ‚aw</td>\n",
       "      <td>Lower Silesia</td>\n",
       "      <td>January</td>\n",
       "      <td>2022</td>\n",
       "      <td>634487</td>\n",
       "      <td>17.033</td>\n",
       "      <td>51.109</td>\n",
       "    </tr>\n",
       "    <tr>\n",
       "      <th>6</th>\n",
       "      <td>Okazja! Na sprzedaĹĽ nowa kawalerka przy Odrze...</td>\n",
       "      <td>416120.000</td>\n",
       "      <td>12975.370</td>\n",
       "      <td>Estate Agency</td>\n",
       "      <td>5.000</td>\n",
       "      <td>32.070</td>\n",
       "      <td>1</td>\n",
       "      <td>Apartment Building</td>\n",
       "      <td>primary</td>\n",
       "      <td>WrocĹ‚aw</td>\n",
       "      <td>Lower Silesia</td>\n",
       "      <td>January</td>\n",
       "      <td>2022</td>\n",
       "      <td>634487</td>\n",
       "      <td>17.033</td>\n",
       "      <td>51.109</td>\n",
       "    </tr>\n",
       "    <tr>\n",
       "      <th>7</th>\n",
       "      <td>Bulwary Staromiejskie, kawalerka z balkonem wi...</td>\n",
       "      <td>275900.000</td>\n",
       "      <td>14913.510</td>\n",
       "      <td>Estate Agency</td>\n",
       "      <td>4.000</td>\n",
       "      <td>18.500</td>\n",
       "      <td>1</td>\n",
       "      <td>Apartment Building</td>\n",
       "      <td>primary</td>\n",
       "      <td>WrocĹ‚aw</td>\n",
       "      <td>Lower Silesia</td>\n",
       "      <td>January</td>\n",
       "      <td>2022</td>\n",
       "      <td>634487</td>\n",
       "      <td>17.033</td>\n",
       "      <td>51.109</td>\n",
       "    </tr>\n",
       "    <tr>\n",
       "      <th>8</th>\n",
       "      <td>B Urban - Kawalerki inwestycyjne pod wynajem</td>\n",
       "      <td>201000.000</td>\n",
       "      <td>8040.000</td>\n",
       "      <td>Estate Agency</td>\n",
       "      <td>NaN</td>\n",
       "      <td>NaN</td>\n",
       "      <td>1</td>\n",
       "      <td>NaN</td>\n",
       "      <td>primary</td>\n",
       "      <td>WrocĹ‚aw</td>\n",
       "      <td>Lower Silesia</td>\n",
       "      <td>January</td>\n",
       "      <td>2022</td>\n",
       "      <td>634487</td>\n",
       "      <td>17.033</td>\n",
       "      <td>51.109</td>\n",
       "    </tr>\n",
       "    <tr>\n",
       "      <th>9</th>\n",
       "      <td>Sprzedam punkt w Pasazu ZieliĹ„skiego</td>\n",
       "      <td>1000.000</td>\n",
       "      <td>100.000</td>\n",
       "      <td>Private</td>\n",
       "      <td>0.000</td>\n",
       "      <td>10.000</td>\n",
       "      <td>1</td>\n",
       "      <td>Other</td>\n",
       "      <td>primary</td>\n",
       "      <td>WrocĹ‚aw</td>\n",
       "      <td>Lower Silesia</td>\n",
       "      <td>January</td>\n",
       "      <td>2022</td>\n",
       "      <td>634487</td>\n",
       "      <td>17.033</td>\n",
       "      <td>51.109</td>\n",
       "    </tr>\n",
       "  </tbody>\n",
       "</table>\n",
       "</div>"
      ],
      "text/plain": [
       "                                         offer_title      price  \\\n",
       "0                             Kawalerka na sprzedaĹĽ 240000.000   \n",
       "1  Nowoczesna kawalerka z winda plus garaĹĽ podzi... 250000.000   \n",
       "2        Nowa kawalerka z Balkonem/Legnicka/Magnolia 259000.000   \n",
       "3  Kawalerka z balkonem/klucze I kwartaĹ‚ 2022/60... 269000.000   \n",
       "4  40 tys. taniej od dewelopera/Kawalerka/Magnoli... 258000.000   \n",
       "5                                Mieszkanie na start 255000.000   \n",
       "6  Okazja! Na sprzedaĹĽ nowa kawalerka przy Odrze... 416120.000   \n",
       "7  Bulwary Staromiejskie, kawalerka z balkonem wi... 275900.000   \n",
       "8       B Urban - Kawalerki inwestycyjne pod wynajem 201000.000   \n",
       "9              Sprzedam punkt w Pasazu ZieliĹ„skiego   1000.000   \n",
       "\n",
       "   price_per_meter     offer_type  floor   area  rooms offer_type_of_building  \\\n",
       "0         8888.890        Private  1.000 27.000      1          Housing Block   \n",
       "1         7142.860        Private  1.000 35.000      1          Housing Block   \n",
       "2        10360.000  Estate Agency  2.000 25.000      1          Housing Block   \n",
       "3        10275.020        Private  3.000 26.180      1     Apartment Building   \n",
       "4         9923.080  Estate Agency  3.000 26.000      1          Housing Block   \n",
       "5        11283.190        Private  3.000 22.600      1          Housing Block   \n",
       "6        12975.370  Estate Agency  5.000 32.070      1     Apartment Building   \n",
       "7        14913.510  Estate Agency  4.000 18.500      1     Apartment Building   \n",
       "8         8040.000  Estate Agency    NaN    NaN      1                    NaN   \n",
       "9          100.000        Private  0.000 10.000      1                  Other   \n",
       "\n",
       "    market        city_name    voivodeship    month  year  population  \\\n",
       "0  primary     BolesĹ‚awiec  Lower Silesia  January  2022       39603   \n",
       "1  primary  Jelcz-Laskowice  Lower Silesia  January  2022       15828   \n",
       "2  primary         WrocĹ‚aw  Lower Silesia  January  2022      634487   \n",
       "3  primary         WrocĹ‚aw  Lower Silesia  January  2022      634487   \n",
       "4  primary         WrocĹ‚aw  Lower Silesia  January  2022      634487   \n",
       "5  primary         WrocĹ‚aw  Lower Silesia  January  2022      634487   \n",
       "6  primary         WrocĹ‚aw  Lower Silesia  January  2022      634487   \n",
       "7  primary         WrocĹ‚aw  Lower Silesia  January  2022      634487   \n",
       "8  primary         WrocĹ‚aw  Lower Silesia  January  2022      634487   \n",
       "9  primary         WrocĹ‚aw  Lower Silesia  January  2022      634487   \n",
       "\n",
       "   longitude  latitude  \n",
       "0     15.565    51.263  \n",
       "1     17.350    51.040  \n",
       "2     17.033    51.109  \n",
       "3     17.033    51.109  \n",
       "4     17.033    51.109  \n",
       "5     17.033    51.109  \n",
       "6     17.033    51.109  \n",
       "7     17.033    51.109  \n",
       "8     17.033    51.109  \n",
       "9     17.033    51.109  "
      ]
     },
     "execution_count": 39,
     "metadata": {},
     "output_type": "execute_result"
    }
   ],
   "source": [
    "df.head(10)"
   ]
  },
  {
   "cell_type": "code",
   "execution_count": 40,
   "metadata": {},
   "outputs": [
    {
     "data": {
      "text/plain": [
       "count       62818.000\n",
       "mean       399405.855\n",
       "std       2023250.514\n",
       "min             1.000\n",
       "25%        260000.000\n",
       "50%        345000.000\n",
       "75%        460000.000\n",
       "max     504151616.000\n",
       "Name: price, dtype: float64"
      ]
     },
     "execution_count": 40,
     "metadata": {},
     "output_type": "execute_result"
    }
   ],
   "source": [
    "df['price'].describe()"
   ]
  },
  {
   "cell_type": "code",
   "execution_count": 41,
   "metadata": {},
   "outputs": [
    {
     "data": {
      "text/plain": [
       "(62818, 16)"
      ]
     },
     "execution_count": 41,
     "metadata": {},
     "output_type": "execute_result"
    }
   ],
   "source": [
    "df.shape"
   ]
  },
  {
   "cell_type": "code",
   "execution_count": 42,
   "metadata": {},
   "outputs": [
    {
     "data": {
      "text/plain": [
       "offer_title                object\n",
       "price                     float64\n",
       "price_per_meter           float64\n",
       "offer_type                 object\n",
       "floor                     float64\n",
       "area                      float64\n",
       "rooms                       int64\n",
       "offer_type_of_building     object\n",
       "market                     object\n",
       "city_name                  object\n",
       "voivodeship                object\n",
       "month                      object\n",
       "year                        int64\n",
       "population                  int64\n",
       "longitude                 float64\n",
       "latitude                  float64\n",
       "dtype: object"
      ]
     },
     "execution_count": 42,
     "metadata": {},
     "output_type": "execute_result"
    }
   ],
   "source": [
    "df.dtypes"
   ]
  },
  {
   "cell_type": "code",
   "execution_count": 43,
   "metadata": {},
   "outputs": [
    {
     "data": {
      "text/plain": [
       "offer_title                  0\n",
       "price                        0\n",
       "price_per_meter              0\n",
       "offer_type                   0\n",
       "floor                     1487\n",
       "area                      1487\n",
       "rooms                        0\n",
       "offer_type_of_building    1487\n",
       "market                       0\n",
       "city_name                    0\n",
       "voivodeship                  0\n",
       "month                        0\n",
       "year                         0\n",
       "population                   0\n",
       "longitude                    0\n",
       "latitude                     0\n",
       "dtype: int64"
      ]
     },
     "execution_count": 43,
     "metadata": {},
     "output_type": "execute_result"
    }
   ],
   "source": [
    "df.isna().sum()"
   ]
  },
  {
   "cell_type": "code",
   "execution_count": 44,
   "metadata": {},
   "outputs": [],
   "source": [
    "categorical_features = ['offer_type', 'offer_type_of_building',\n",
    "                        'market', 'voivodeship', 'month']\n",
    "\n",
    "numeric_features = ['floor', 'area', 'rooms', 'longitude', 'latitude']"
   ]
  },
  {
   "cell_type": "code",
   "execution_count": 45,
   "metadata": {},
   "outputs": [],
   "source": [
    "df = df[(df[\"price\"] <= df[\"price\"].quantile(0.95)) & (df[\"price\"] >= df[\"price\"].quantile(0.05))]"
   ]
  },
  {
   "cell_type": "code",
   "execution_count": 46,
   "metadata": {},
   "outputs": [
    {
     "name": "stderr",
     "output_type": "stream",
     "text": [
      "2023/04/08 14:51:21 INFO mlflow.utils.autologging_utils: Created MLflow autologging run with ID '4c9e77cf3c884dd7bceb509e51558a3e', which will track hyperparameters, performance metrics, model artifacts, and lineage information for the current sklearn workflow\n",
      "2023/04/08 14:51:21 WARNING mlflow.sklearn: Training metrics will not be recorded because training labels were not specified. To automatically record training metrics, provide training labels as inputs to the model training function.\n",
      "2023/04/08 14:51:21 WARNING mlflow.sklearn: Failed to infer model signature: the trained model does not specify a `predict` function, which is required in order to infer the signature\n",
      "2023/04/08 14:51:21 WARNING mlflow.sklearn: Model was missing function: predict. Not logging python_function flavor!\n",
      "2023/04/08 14:51:25 INFO mlflow.utils.autologging_utils: Created MLflow autologging run with ID '537e118eecc54823ba7a470969ea649b', which will track hyperparameters, performance metrics, model artifacts, and lineage information for the current sklearn workflow\n",
      "2023/04/08 14:51:25 WARNING mlflow.sklearn: Training metrics will not be recorded because training labels were not specified. To automatically record training metrics, provide training labels as inputs to the model training function.\n",
      "2023/04/08 14:51:25 WARNING mlflow.sklearn: Failed to infer model signature: the trained model does not specify a `predict` function, which is required in order to infer the signature\n",
      "2023/04/08 14:51:25 WARNING mlflow.sklearn: Model was missing function: predict. Not logging python_function flavor!\n"
     ]
    }
   ],
   "source": [
    "categorical_transformer = Pipeline(steps=[\n",
    "        ('imputer', SimpleImputer(strategy='constant', fill_value='missing')),\n",
    "        ('encoder', OneHotEncoder(drop='first', sparse_output=False, handle_unknown='infrequent_if_exist', min_frequency=2000))\n",
    "            ])\n",
    "\n",
    "numeric_transformer = Pipeline(steps=[\n",
    "        ('imputer', IterativeImputer(initial_strategy='mean', max_iter=5, random_state=SEED, verbose=0)),\n",
    "        ('scaler' , StandardScaler())\n",
    "            ])\n",
    "\n",
    "preprocessor = ColumnTransformer(\n",
    "    transformers=[\n",
    "        (\"num\", numeric_transformer, numeric_features),\n",
    "        (\"cat\", categorical_transformer, categorical_features),\n",
    "    ])\n",
    "\n",
    "y = df[\"price\"]\n",
    "X_train, X_test, y_train, y_test= train_test_split(df, y, test_size=0.2, random_state=SEED)\n",
    "\n",
    "X_train_transformed = preprocessor.fit_transform(X_train)\n",
    "X_test_transformed = preprocessor.transform(X_test)\n",
    "feature_names = preprocessor.get_feature_names_out()"
   ]
  },
  {
   "cell_type": "code",
   "execution_count": 47,
   "metadata": {},
   "outputs": [
    {
     "data": {
      "text/plain": [
       "array(['num__floor', 'num__area', 'num__rooms', 'num__longitude',\n",
       "       'num__latitude', 'cat__offer_type_Private',\n",
       "       'cat__offer_type_of_building_Housing Block',\n",
       "       'cat__offer_type_of_building_Tenement',\n",
       "       'cat__offer_type_of_building_infrequent_sklearn',\n",
       "       'cat__market_primary', 'cat__voivodeship_Kuyavia-Pomerania',\n",
       "       'cat__voivodeship_Lesser Poland', 'cat__voivodeship_Lodzkie',\n",
       "       'cat__voivodeship_Lower Silesia', 'cat__voivodeship_Lublin',\n",
       "       'cat__voivodeship_Masovia', 'cat__voivodeship_Pomerania',\n",
       "       'cat__voivodeship_Silesia', 'cat__voivodeship_Warmia-Masuria',\n",
       "       'cat__voivodeship_West Pomerania',\n",
       "       'cat__voivodeship_infrequent_sklearn', 'cat__month_January',\n",
       "       'cat__month_March'], dtype=object)"
      ]
     },
     "execution_count": 47,
     "metadata": {},
     "output_type": "execute_result"
    }
   ],
   "source": [
    "feature_names"
   ]
  },
  {
   "cell_type": "code",
   "execution_count": 48,
   "metadata": {},
   "outputs": [
    {
     "data": {
      "text/plain": [
       "((45235, 23), (11309, 23))"
      ]
     },
     "execution_count": 48,
     "metadata": {},
     "output_type": "execute_result"
    }
   ],
   "source": [
    "X_train_transformed.shape, X_test_transformed.shape"
   ]
  },
  {
   "cell_type": "code",
   "execution_count": 56,
   "metadata": {},
   "outputs": [],
   "source": [
    "models = (\n",
    "    [Ridge, \"Ridge\"], \n",
    "    [RandomForestRegressor, \"RF\"], \n",
    "    [LinearSVR, \"LinearSVR\"], \n",
    "    [KNeighborsRegressor, \"KNN\"]\n",
    ")\n"
   ]
  },
  {
   "cell_type": "code",
   "execution_count": 57,
   "metadata": {},
   "outputs": [
    {
     "name": "stderr",
     "output_type": "stream",
     "text": [
      "2023/04/08 14:55:36 INFO mlflow.tracking.fluent: Experiment with name 'my-experiment-godel' does not exist. Creating a new experiment.\n",
      "2023/04/08 14:55:37 WARNING mlflow.utils.autologging_utils: You are using an unsupported version of sklearn. If you encounter errors during autologging, try upgrading / downgrading sklearn to a supported version, or try upgrading MLflow.\n"
     ]
    },
    {
     "name": "stdout",
     "output_type": "stream",
     "text": [
      "default artifacts URI: 's3://test-bucket-vlad-godel/mlflow_artifacts/4/473f7cf208d64b5b8a0e09dc50587010/artifacts'\n",
      "default artifacts URI: 's3://test-bucket-vlad-godel/mlflow_artifacts/4/77173d555adf444188b8e9fcee2edca4/artifacts'\n",
      "default artifacts URI: 's3://test-bucket-vlad-godel/mlflow_artifacts/4/467e10ba61154f58927998fb2862eadf/artifacts'\n",
      "default artifacts URI: 's3://test-bucket-vlad-godel/mlflow_artifacts/4/53c8ef4fdcc949dfbd5d763e561ae2d1/artifacts'\n"
     ]
    }
   ],
   "source": [
    "mlflow.set_experiment(\"my-experiment-godel\")\n",
    "mlflow.sklearn.autolog()\n",
    "\n",
    "for model_class in models:\n",
    "\n",
    "    with mlflow.start_run():\n",
    "        \n",
    "        mlflow.log_param(\"Train datset size\", X_train_transformed.shape)\n",
    "        mlflow.log_param(\"model\", model_class[1])\n",
    "        estimator = model_class[0]()\n",
    "        cv_results = cross_validate(estimator,\n",
    "                    X_train_transformed, y_train,\n",
    "                    cv=5, n_jobs=-1,\n",
    "                    scoring=('neg_mean_absolute_percentage_error', 'neg_root_mean_squared_error'),\n",
    "                    return_train_score=True\n",
    "                    )\n",
    "        mean_test_mape = cv_results['test_neg_mean_absolute_percentage_error'].mean()\n",
    "        mean_train_mape = cv_results['train_neg_mean_absolute_percentage_error'].mean()\n",
    "        mean_test_rmse = cv_results['test_neg_root_mean_squared_error'].mean()\n",
    "        mean_train_rmse = cv_results['train_neg_root_mean_squared_error'].mean()\n",
    "        mlflow.log_metric(\"mean_test_mape\", mean_test_mape)\n",
    "        mlflow.log_metric(\"mean_train_mape\", mean_train_mape)\n",
    "        mlflow.log_metric(\"mean_test_rmse\", mean_test_rmse)\n",
    "        mlflow.log_metric(\"mean_train_rmse\", mean_train_rmse)\n",
    "\n",
    "        mlflow.sklearn.log_model(estimator, artifact_path=\"models\")\n",
    "        print(f\"default artifacts URI: '{mlflow.get_artifact_uri()}'\")\n",
    "        mlflow.end_run()"
   ]
  },
  {
   "cell_type": "code",
   "execution_count": 59,
   "metadata": {},
   "outputs": [],
   "source": [
    "from mlflow.tracking import MlflowClient\n"
   ]
  },
  {
   "cell_type": "code",
   "execution_count": 101,
   "metadata": {},
   "outputs": [],
   "source": [
    "client = MlflowClient(tracking_uri=f\"http://{TRACKING_SERVER_HOST}:5000\")"
   ]
  },
  {
   "cell_type": "code",
   "execution_count": 126,
   "metadata": {},
   "outputs": [],
   "source": [
    "experiments = (\n",
    "    client.search_experiments()\n",
    ") \n"
   ]
  },
  {
   "cell_type": "code",
   "execution_count": 127,
   "metadata": {},
   "outputs": [
    {
     "data": {
      "text/plain": [
       "[<Experiment: artifact_location='s3://test-bucket-vlad-godel/mlflow_artifacts/6', creation_time=1680963899678, experiment_id='6', last_update_time=1680963899678, lifecycle_stage='active', name='godeldemo-2023-04-08-16-04-03', tags={}>,\n",
       " <Experiment: artifact_location='s3://test-bucket-vlad-godel/mlflow_artifacts/5', creation_time=1680961665901, experiment_id='5', last_update_time=1680961665901, lifecycle_stage='active', name='godeldemo-2023-04-08-15-04-49', tags={}>,\n",
       " <Experiment: artifact_location='s3://test-bucket-vlad-godel/mlflow_artifacts/4', creation_time=1680958533002, experiment_id='4', last_update_time=1680958533002, lifecycle_stage='active', name='my-experiment-godel', tags={}>,\n",
       " <Experiment: artifact_location='s3://test-bucket-vlad-godel/mlflow_artifacts/3', creation_time=1680957409102, experiment_id='3', last_update_time=1680957409102, lifecycle_stage='active', name='my-experiment-test2', tags={}>]"
      ]
     },
     "execution_count": 127,
     "metadata": {},
     "output_type": "execute_result"
    }
   ],
   "source": [
    "experiments"
   ]
  },
  {
   "cell_type": "code",
   "execution_count": 128,
   "metadata": {},
   "outputs": [
    {
     "data": {
      "text/plain": [
       "<Run: data=<RunData: metrics={}, params={}, tags={'mlflow.runName': 'salty-goat-814'}>, info=<RunInfo: artifact_uri='s3://test-bucket-vlad-godel/mlflow_artifacts/6/3097311aa38d47a39ef87576eb0bd06b/artifacts', end_time=None, experiment_id='6', lifecycle_stage='active', run_id='3097311aa38d47a39ef87576eb0bd06b', run_name='salty-goat-814', run_uuid='3097311aa38d47a39ef87576eb0bd06b', start_time=1680964114943, status='RUNNING', user_id='unknown'>>"
      ]
     },
     "execution_count": 128,
     "metadata": {},
     "output_type": "execute_result"
    }
   ],
   "source": [
    "run = client.create_run(experiments[0].experiment_id)\n",
    "run "
   ]
  },
  {
   "cell_type": "code",
   "execution_count": 129,
   "metadata": {},
   "outputs": [
    {
     "data": {
      "text/plain": [
       "'3097311aa38d47a39ef87576eb0bd06b'"
      ]
     },
     "execution_count": 129,
     "metadata": {},
     "output_type": "execute_result"
    }
   ],
   "source": [
    "run.info.run_id"
   ]
  },
  {
   "cell_type": "code",
   "execution_count": 130,
   "metadata": {},
   "outputs": [],
   "source": [
    "exp_id = run.info.experiment_id"
   ]
  },
  {
   "cell_type": "code",
   "execution_count": 131,
   "metadata": {},
   "outputs": [],
   "source": [
    "client.set_tag(run.info.run_id, \"tag\", \"test\")\n"
   ]
  },
  {
   "cell_type": "code",
   "execution_count": 132,
   "metadata": {},
   "outputs": [],
   "source": [
    "from mlflow.entities import ViewType\n",
    "\n",
    "\n",
    "runs = client.search_runs(\n",
    "    experiment_ids= run.info.experiment_id,\n",
    "    filter_string=\"metrics.mean_test_mape > -0.2\",\n",
    "    run_view_type=ViewType.ACTIVE_ONLY,\n",
    "    max_results=5,\n",
    "    order_by=[\"metrics.mean_test_mape DESC\"]\n",
    ")"
   ]
  },
  {
   "cell_type": "code",
   "execution_count": 133,
   "metadata": {},
   "outputs": [
    {
     "data": {
      "text/plain": [
       "'1b9c7d0f51aa461db1796e46e02b80eb'"
      ]
     },
     "execution_count": 133,
     "metadata": {},
     "output_type": "execute_result"
    }
   ],
   "source": [
    "runs[0].info.run_id"
   ]
  },
  {
   "cell_type": "code",
   "execution_count": 135,
   "metadata": {},
   "outputs": [],
   "source": [
    "import mlflow\n",
    "logged_model = 'runs:/1b9c7d0f51aa461db1796e46e02b80eb/models'\n",
    "\n",
    "# Load model as a PyFuncModel.\n",
    "loaded_model = mlflow.pyfunc.load_model(logged_model)\n",
    "\n",
    "# Predict on a Pandas DataFrame.\n"
   ]
  },
  {
   "cell_type": "code",
   "execution_count": null,
   "metadata": {},
   "outputs": [],
   "source": []
  }
 ],
 "metadata": {
  "kernelspec": {
   "display_name": "godel_mlflow_demo-XIgl0c0q",
   "language": "python",
   "name": "python3"
  },
  "language_info": {
   "codemirror_mode": {
    "name": "ipython",
    "version": 3
   },
   "file_extension": ".py",
   "mimetype": "text/x-python",
   "name": "python",
   "nbconvert_exporter": "python",
   "pygments_lexer": "ipython3",
   "version": "3.9.4"
  },
  "orig_nbformat": 4
 },
 "nbformat": 4,
 "nbformat_minor": 2
}
