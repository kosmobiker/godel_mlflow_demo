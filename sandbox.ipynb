{
 "cells": [
  {
   "cell_type": "code",
   "execution_count": 1,
   "metadata": {},
   "outputs": [],
   "source": [
    "import pandas as pd\n",
    "import awswrangler as wr\n",
    "import sklearn\n",
    "import boto3\n",
    "import pickle\n",
    "import xgboost as xgb\n",
    "import numpy as np\n",
    "import mlflow\n",
    "from sklearn.model_selection import train_test_split\n",
    "from sklearn.metrics import mean_squared_error, mean_absolute_error, r2_score, mean_absolute_percentage_error\n",
    "\n",
    "pd.set_option('display.max_columns', None)\n",
    "pd.set_option('display.float_format', lambda x: '%.3f' % x)\n",
    "pd.options.mode.chained_assignment = None \n",
    "\n",
    "SEED = 42"
   ]
  },
  {
   "cell_type": "code",
   "execution_count": 2,
   "metadata": {},
   "outputs": [
    {
     "name": "stdout",
     "output_type": "stream",
     "text": [
      "Pandas version is 1.5.3\n",
      "Scikit-learn version is 1.2.2\n",
      "MLflow version is 2.2.2\n"
     ]
    }
   ],
   "source": [
    "print(f\"Pandas version is {pd.__version__}\")\n",
    "print(f\"Scikit-learn version is {sklearn.__version__}\")\n",
    "print(f\"MLflow version is {mlflow.__version__}\")"
   ]
  },
  {
   "cell_type": "code",
   "execution_count": 3,
   "metadata": {},
   "outputs": [
    {
     "data": {
      "text/plain": [
       "<Experiment: artifact_location='s3://test-bucket-vlad-godel/mlflow_artifacts/4', creation_time=1685455257640, experiment_id='4', last_update_time=1685455257640, lifecycle_stage='active', name='godel-cozy-ds', tags={}>"
      ]
     },
     "execution_count": 3,
     "metadata": {},
     "output_type": "execute_result"
    }
   ],
   "source": [
    "TRACKING_SERVER_HOST = \"ec2-3-253-112-217.eu-west-1.compute.amazonaws.com\" # fill in with the public DNS of the EC2 instance\n",
    "mlflow.set_tracking_uri(f\"http://{TRACKING_SERVER_HOST}:5000\")\n",
    "mlflow.set_experiment(\"godel-cozy-ds\")"
   ]
  },
  {
   "cell_type": "code",
   "execution_count": 4,
   "metadata": {},
   "outputs": [
    {
     "name": "stdout",
     "output_type": "stream",
     "text": [
      "tracking URI: 'http://ec2-3-253-112-217.eu-west-1.compute.amazonaws.com:5000'\n"
     ]
    }
   ],
   "source": [
    "print(f\"tracking URI: '{mlflow.get_tracking_uri()}'\")"
   ]
  },
  {
   "cell_type": "code",
   "execution_count": 5,
   "metadata": {},
   "outputs": [],
   "source": [
    "path1 = 's3://test-bucket-vlad-godel/data/olx_house_price_Q122.csv'\n",
    "\n",
    "df = wr.s3.read_csv([path1], encoding='utf-8')"
   ]
  },
  {
   "cell_type": "code",
   "execution_count": 6,
   "metadata": {},
   "outputs": [
    {
     "data": {
      "text/html": [
       "<div>\n",
       "<style scoped>\n",
       "    .dataframe tbody tr th:only-of-type {\n",
       "        vertical-align: middle;\n",
       "    }\n",
       "\n",
       "    .dataframe tbody tr th {\n",
       "        vertical-align: top;\n",
       "    }\n",
       "\n",
       "    .dataframe thead th {\n",
       "        text-align: right;\n",
       "    }\n",
       "</style>\n",
       "<table border=\"1\" class=\"dataframe\">\n",
       "  <thead>\n",
       "    <tr style=\"text-align: right;\">\n",
       "      <th></th>\n",
       "      <th>offer_title</th>\n",
       "      <th>price</th>\n",
       "      <th>price_per_meter</th>\n",
       "      <th>offer_type</th>\n",
       "      <th>floor</th>\n",
       "      <th>area</th>\n",
       "      <th>rooms</th>\n",
       "      <th>offer_type_of_building</th>\n",
       "      <th>market</th>\n",
       "      <th>city_name</th>\n",
       "      <th>voivodeship</th>\n",
       "      <th>month</th>\n",
       "      <th>year</th>\n",
       "      <th>population</th>\n",
       "      <th>longitude</th>\n",
       "      <th>latitude</th>\n",
       "    </tr>\n",
       "  </thead>\n",
       "  <tbody>\n",
       "    <tr>\n",
       "      <th>0</th>\n",
       "      <td>Kawalerka na sprzedaĹĽ</td>\n",
       "      <td>240000.000</td>\n",
       "      <td>8888.890</td>\n",
       "      <td>Private</td>\n",
       "      <td>1.000</td>\n",
       "      <td>27.000</td>\n",
       "      <td>1</td>\n",
       "      <td>Housing Block</td>\n",
       "      <td>primary</td>\n",
       "      <td>BolesĹ‚awiec</td>\n",
       "      <td>Lower Silesia</td>\n",
       "      <td>January</td>\n",
       "      <td>2022</td>\n",
       "      <td>39603</td>\n",
       "      <td>15.565</td>\n",
       "      <td>51.263</td>\n",
       "    </tr>\n",
       "    <tr>\n",
       "      <th>1</th>\n",
       "      <td>Nowoczesna kawalerka z winda plus garaĹĽ podzi...</td>\n",
       "      <td>250000.000</td>\n",
       "      <td>7142.860</td>\n",
       "      <td>Private</td>\n",
       "      <td>1.000</td>\n",
       "      <td>35.000</td>\n",
       "      <td>1</td>\n",
       "      <td>Housing Block</td>\n",
       "      <td>primary</td>\n",
       "      <td>Jelcz-Laskowice</td>\n",
       "      <td>Lower Silesia</td>\n",
       "      <td>January</td>\n",
       "      <td>2022</td>\n",
       "      <td>15828</td>\n",
       "      <td>17.350</td>\n",
       "      <td>51.040</td>\n",
       "    </tr>\n",
       "    <tr>\n",
       "      <th>2</th>\n",
       "      <td>Nowa kawalerka z Balkonem/Legnicka/Magnolia</td>\n",
       "      <td>259000.000</td>\n",
       "      <td>10360.000</td>\n",
       "      <td>Estate Agency</td>\n",
       "      <td>2.000</td>\n",
       "      <td>25.000</td>\n",
       "      <td>1</td>\n",
       "      <td>Housing Block</td>\n",
       "      <td>primary</td>\n",
       "      <td>WrocĹ‚aw</td>\n",
       "      <td>Lower Silesia</td>\n",
       "      <td>January</td>\n",
       "      <td>2022</td>\n",
       "      <td>634487</td>\n",
       "      <td>17.033</td>\n",
       "      <td>51.109</td>\n",
       "    </tr>\n",
       "    <tr>\n",
       "      <th>3</th>\n",
       "      <td>Kawalerka z balkonem/klucze I kwartaĹ‚ 2022/60...</td>\n",
       "      <td>269000.000</td>\n",
       "      <td>10275.020</td>\n",
       "      <td>Private</td>\n",
       "      <td>3.000</td>\n",
       "      <td>26.180</td>\n",
       "      <td>1</td>\n",
       "      <td>Apartment Building</td>\n",
       "      <td>primary</td>\n",
       "      <td>WrocĹ‚aw</td>\n",
       "      <td>Lower Silesia</td>\n",
       "      <td>January</td>\n",
       "      <td>2022</td>\n",
       "      <td>634487</td>\n",
       "      <td>17.033</td>\n",
       "      <td>51.109</td>\n",
       "    </tr>\n",
       "    <tr>\n",
       "      <th>4</th>\n",
       "      <td>40 tys. taniej od dewelopera/Kawalerka/Magnoli...</td>\n",
       "      <td>258000.000</td>\n",
       "      <td>9923.080</td>\n",
       "      <td>Estate Agency</td>\n",
       "      <td>3.000</td>\n",
       "      <td>26.000</td>\n",
       "      <td>1</td>\n",
       "      <td>Housing Block</td>\n",
       "      <td>primary</td>\n",
       "      <td>WrocĹ‚aw</td>\n",
       "      <td>Lower Silesia</td>\n",
       "      <td>January</td>\n",
       "      <td>2022</td>\n",
       "      <td>634487</td>\n",
       "      <td>17.033</td>\n",
       "      <td>51.109</td>\n",
       "    </tr>\n",
       "    <tr>\n",
       "      <th>5</th>\n",
       "      <td>Mieszkanie na start</td>\n",
       "      <td>255000.000</td>\n",
       "      <td>11283.190</td>\n",
       "      <td>Private</td>\n",
       "      <td>3.000</td>\n",
       "      <td>22.600</td>\n",
       "      <td>1</td>\n",
       "      <td>Housing Block</td>\n",
       "      <td>primary</td>\n",
       "      <td>WrocĹ‚aw</td>\n",
       "      <td>Lower Silesia</td>\n",
       "      <td>January</td>\n",
       "      <td>2022</td>\n",
       "      <td>634487</td>\n",
       "      <td>17.033</td>\n",
       "      <td>51.109</td>\n",
       "    </tr>\n",
       "    <tr>\n",
       "      <th>6</th>\n",
       "      <td>Okazja! Na sprzedaĹĽ nowa kawalerka przy Odrze...</td>\n",
       "      <td>416120.000</td>\n",
       "      <td>12975.370</td>\n",
       "      <td>Estate Agency</td>\n",
       "      <td>5.000</td>\n",
       "      <td>32.070</td>\n",
       "      <td>1</td>\n",
       "      <td>Apartment Building</td>\n",
       "      <td>primary</td>\n",
       "      <td>WrocĹ‚aw</td>\n",
       "      <td>Lower Silesia</td>\n",
       "      <td>January</td>\n",
       "      <td>2022</td>\n",
       "      <td>634487</td>\n",
       "      <td>17.033</td>\n",
       "      <td>51.109</td>\n",
       "    </tr>\n",
       "    <tr>\n",
       "      <th>7</th>\n",
       "      <td>Bulwary Staromiejskie, kawalerka z balkonem wi...</td>\n",
       "      <td>275900.000</td>\n",
       "      <td>14913.510</td>\n",
       "      <td>Estate Agency</td>\n",
       "      <td>4.000</td>\n",
       "      <td>18.500</td>\n",
       "      <td>1</td>\n",
       "      <td>Apartment Building</td>\n",
       "      <td>primary</td>\n",
       "      <td>WrocĹ‚aw</td>\n",
       "      <td>Lower Silesia</td>\n",
       "      <td>January</td>\n",
       "      <td>2022</td>\n",
       "      <td>634487</td>\n",
       "      <td>17.033</td>\n",
       "      <td>51.109</td>\n",
       "    </tr>\n",
       "    <tr>\n",
       "      <th>8</th>\n",
       "      <td>B Urban - Kawalerki inwestycyjne pod wynajem</td>\n",
       "      <td>201000.000</td>\n",
       "      <td>8040.000</td>\n",
       "      <td>Estate Agency</td>\n",
       "      <td>NaN</td>\n",
       "      <td>NaN</td>\n",
       "      <td>1</td>\n",
       "      <td>NaN</td>\n",
       "      <td>primary</td>\n",
       "      <td>WrocĹ‚aw</td>\n",
       "      <td>Lower Silesia</td>\n",
       "      <td>January</td>\n",
       "      <td>2022</td>\n",
       "      <td>634487</td>\n",
       "      <td>17.033</td>\n",
       "      <td>51.109</td>\n",
       "    </tr>\n",
       "    <tr>\n",
       "      <th>9</th>\n",
       "      <td>Sprzedam punkt w Pasazu ZieliĹ„skiego</td>\n",
       "      <td>1000.000</td>\n",
       "      <td>100.000</td>\n",
       "      <td>Private</td>\n",
       "      <td>0.000</td>\n",
       "      <td>10.000</td>\n",
       "      <td>1</td>\n",
       "      <td>Other</td>\n",
       "      <td>primary</td>\n",
       "      <td>WrocĹ‚aw</td>\n",
       "      <td>Lower Silesia</td>\n",
       "      <td>January</td>\n",
       "      <td>2022</td>\n",
       "      <td>634487</td>\n",
       "      <td>17.033</td>\n",
       "      <td>51.109</td>\n",
       "    </tr>\n",
       "  </tbody>\n",
       "</table>\n",
       "</div>"
      ],
      "text/plain": [
       "                                         offer_title      price  \\\n",
       "0                             Kawalerka na sprzedaĹĽ 240000.000   \n",
       "1  Nowoczesna kawalerka z winda plus garaĹĽ podzi... 250000.000   \n",
       "2        Nowa kawalerka z Balkonem/Legnicka/Magnolia 259000.000   \n",
       "3  Kawalerka z balkonem/klucze I kwartaĹ‚ 2022/60... 269000.000   \n",
       "4  40 tys. taniej od dewelopera/Kawalerka/Magnoli... 258000.000   \n",
       "5                                Mieszkanie na start 255000.000   \n",
       "6  Okazja! Na sprzedaĹĽ nowa kawalerka przy Odrze... 416120.000   \n",
       "7  Bulwary Staromiejskie, kawalerka z balkonem wi... 275900.000   \n",
       "8       B Urban - Kawalerki inwestycyjne pod wynajem 201000.000   \n",
       "9              Sprzedam punkt w Pasazu ZieliĹ„skiego   1000.000   \n",
       "\n",
       "   price_per_meter     offer_type  floor   area  rooms offer_type_of_building  \\\n",
       "0         8888.890        Private  1.000 27.000      1          Housing Block   \n",
       "1         7142.860        Private  1.000 35.000      1          Housing Block   \n",
       "2        10360.000  Estate Agency  2.000 25.000      1          Housing Block   \n",
       "3        10275.020        Private  3.000 26.180      1     Apartment Building   \n",
       "4         9923.080  Estate Agency  3.000 26.000      1          Housing Block   \n",
       "5        11283.190        Private  3.000 22.600      1          Housing Block   \n",
       "6        12975.370  Estate Agency  5.000 32.070      1     Apartment Building   \n",
       "7        14913.510  Estate Agency  4.000 18.500      1     Apartment Building   \n",
       "8         8040.000  Estate Agency    NaN    NaN      1                    NaN   \n",
       "9          100.000        Private  0.000 10.000      1                  Other   \n",
       "\n",
       "    market        city_name    voivodeship    month  year  population  \\\n",
       "0  primary     BolesĹ‚awiec  Lower Silesia  January  2022       39603   \n",
       "1  primary  Jelcz-Laskowice  Lower Silesia  January  2022       15828   \n",
       "2  primary         WrocĹ‚aw  Lower Silesia  January  2022      634487   \n",
       "3  primary         WrocĹ‚aw  Lower Silesia  January  2022      634487   \n",
       "4  primary         WrocĹ‚aw  Lower Silesia  January  2022      634487   \n",
       "5  primary         WrocĹ‚aw  Lower Silesia  January  2022      634487   \n",
       "6  primary         WrocĹ‚aw  Lower Silesia  January  2022      634487   \n",
       "7  primary         WrocĹ‚aw  Lower Silesia  January  2022      634487   \n",
       "8  primary         WrocĹ‚aw  Lower Silesia  January  2022      634487   \n",
       "9  primary         WrocĹ‚aw  Lower Silesia  January  2022      634487   \n",
       "\n",
       "   longitude  latitude  \n",
       "0     15.565    51.263  \n",
       "1     17.350    51.040  \n",
       "2     17.033    51.109  \n",
       "3     17.033    51.109  \n",
       "4     17.033    51.109  \n",
       "5     17.033    51.109  \n",
       "6     17.033    51.109  \n",
       "7     17.033    51.109  \n",
       "8     17.033    51.109  \n",
       "9     17.033    51.109  "
      ]
     },
     "execution_count": 6,
     "metadata": {},
     "output_type": "execute_result"
    }
   ],
   "source": [
    "df.head(10)"
   ]
  },
  {
   "cell_type": "code",
   "execution_count": 7,
   "metadata": {},
   "outputs": [
    {
     "data": {
      "text/plain": [
       "count       62818.000\n",
       "mean       399405.855\n",
       "std       2023250.514\n",
       "min             1.000\n",
       "25%        260000.000\n",
       "50%        345000.000\n",
       "75%        460000.000\n",
       "max     504151616.000\n",
       "Name: price, dtype: float64"
      ]
     },
     "execution_count": 7,
     "metadata": {},
     "output_type": "execute_result"
    }
   ],
   "source": [
    "df['price'].describe()"
   ]
  },
  {
   "cell_type": "code",
   "execution_count": 8,
   "metadata": {},
   "outputs": [
    {
     "data": {
      "text/plain": [
       "(62818, 16)"
      ]
     },
     "execution_count": 8,
     "metadata": {},
     "output_type": "execute_result"
    }
   ],
   "source": [
    "df.shape"
   ]
  },
  {
   "cell_type": "code",
   "execution_count": 9,
   "metadata": {},
   "outputs": [
    {
     "data": {
      "text/plain": [
       "offer_title                object\n",
       "price                     float64\n",
       "price_per_meter           float64\n",
       "offer_type                 object\n",
       "floor                     float64\n",
       "area                      float64\n",
       "rooms                       int64\n",
       "offer_type_of_building     object\n",
       "market                     object\n",
       "city_name                  object\n",
       "voivodeship                object\n",
       "month                      object\n",
       "year                        int64\n",
       "population                  int64\n",
       "longitude                 float64\n",
       "latitude                  float64\n",
       "dtype: object"
      ]
     },
     "execution_count": 9,
     "metadata": {},
     "output_type": "execute_result"
    }
   ],
   "source": [
    "df.dtypes"
   ]
  },
  {
   "cell_type": "code",
   "execution_count": 10,
   "metadata": {},
   "outputs": [
    {
     "data": {
      "text/plain": [
       "offer_title                  0\n",
       "price                        0\n",
       "price_per_meter              0\n",
       "offer_type                   0\n",
       "floor                     1487\n",
       "area                      1487\n",
       "rooms                        0\n",
       "offer_type_of_building    1487\n",
       "market                       0\n",
       "city_name                    0\n",
       "voivodeship                  0\n",
       "month                        0\n",
       "year                         0\n",
       "population                   0\n",
       "longitude                    0\n",
       "latitude                     0\n",
       "dtype: int64"
      ]
     },
     "execution_count": 10,
     "metadata": {},
     "output_type": "execute_result"
    }
   ],
   "source": [
    "df.isna().sum()"
   ]
  },
  {
   "cell_type": "code",
   "execution_count": 11,
   "metadata": {},
   "outputs": [
    {
     "data": {
      "text/plain": [
       "1.000     12791\n",
       "0.000     11384\n",
       "2.000     11313\n",
       "3.000     10769\n",
       "4.000      9139\n",
       "5.000      1432\n",
       "10.000     1061\n",
       "6.000      1048\n",
       "7.000       803\n",
       "8.000       777\n",
       "9.000       603\n",
       "11.000      149\n",
       "-1.000       62\n",
       "Name: floor, dtype: int64"
      ]
     },
     "execution_count": 11,
     "metadata": {},
     "output_type": "execute_result"
    }
   ],
   "source": [
    "df['floor'].value_counts()"
   ]
  },
  {
   "cell_type": "code",
   "execution_count": 12,
   "metadata": {},
   "outputs": [],
   "source": [
    "df = df[df['floor'].isna() == False]"
   ]
  },
  {
   "cell_type": "code",
   "execution_count": 13,
   "metadata": {},
   "outputs": [],
   "source": [
    "df = df[(df[\"price\"] <= df[\"price\"].quantile(0.95)) & (df[\"price\"] >= df[\"price\"].quantile(0.05))]"
   ]
  },
  {
   "cell_type": "code",
   "execution_count": 14,
   "metadata": {},
   "outputs": [],
   "source": [
    "y = df[\"price\"]\n",
    "X_train, X_test, y_train, y_test= train_test_split(df, y, test_size=0.3, random_state=SEED)"
   ]
  },
  {
   "cell_type": "code",
   "execution_count": 15,
   "metadata": {},
   "outputs": [],
   "source": [
    "from mlflow.tracking import MlflowClient\n"
   ]
  },
  {
   "cell_type": "code",
   "execution_count": 16,
   "metadata": {},
   "outputs": [],
   "source": [
    "client = MlflowClient(tracking_uri=f\"http://{TRACKING_SERVER_HOST}:5000\")"
   ]
  },
  {
   "cell_type": "code",
   "execution_count": 20,
   "metadata": {},
   "outputs": [
    {
     "data": {
      "text/plain": [
       "[<Experiment: artifact_location='s3://test-bucket-vlad-godel/mlflow_artifacts/6', creation_time=1685516502288, experiment_id='6', last_update_time=1685516502288, lifecycle_stage='active', name='godel-cozy-ds-hyperopt_2023-05-31_09-01-40', tags={}>,\n",
       " <Experiment: artifact_location='s3://test-bucket-vlad-godel/mlflow_artifacts/5', creation_time=1685458629352, experiment_id='5', last_update_time=1685458629352, lifecycle_stage='active', name='godel-cozy-ds-hyperopt_2023-05-30_16-57-08', tags={}>,\n",
       " <Experiment: artifact_location='s3://test-bucket-vlad-godel/mlflow_artifacts/4', creation_time=1685455257640, experiment_id='4', last_update_time=1685455257640, lifecycle_stage='active', name='godel-cozy-ds', tags={}>,\n",
       " <Experiment: artifact_location='s3://test-bucket-vlad-godel/mlflow_artifacts/3', creation_time=1685454262485, experiment_id='3', last_update_time=1685454262485, lifecycle_stage='active', name='godel-cozy-ds-hyperopt_2023-05-30_15-44-21', tags={}>,\n",
       " <Experiment: artifact_location='s3://test-bucket-vlad-godel/mlflow_artifacts/1', creation_time=1685453829280, experiment_id='1', last_update_time=1685453829280, lifecycle_stage='active', name='godel_cozy_ds-simple_trainer', tags={}>,\n",
       " <Experiment: artifact_location='s3://test-bucket-vlad-godel/mlflow_artifacts/0', creation_time=1685453662691, experiment_id='0', last_update_time=1685453662691, lifecycle_stage='active', name='Default', tags={}>]"
      ]
     },
     "execution_count": 20,
     "metadata": {},
     "output_type": "execute_result"
    }
   ],
   "source": [
    "experiment = (\n",
    "    client.search_experiments()\n",
    "    ) \n",
    "experiment"
   ]
  },
  {
   "cell_type": "code",
   "execution_count": 21,
   "metadata": {},
   "outputs": [],
   "source": [
    "models = (\n",
    "    client.search_registered_models()\n",
    "    ) \n",
    "requierd_run_id = models[0].latest_versions[0].run_id\n",
    "requierd_experiment_id = '6'"
   ]
  },
  {
   "cell_type": "code",
   "execution_count": 22,
   "metadata": {},
   "outputs": [
    {
     "data": {
      "text/plain": [
       "<ModelVersion: creation_timestamp=1685456013492, current_stage='None', description='This model will be used for house pricing predictions', last_updated_timestamp=1685526881957, name='house_pricing_xgboost_model', run_id='10b25ffd3a0141f8ac9d4c60000c5204', run_link='', source='s3://test-bucket-vlad-godel/mlflow_artifacts/3/10b25ffd3a0141f8ac9d4c60000c5204/artifacts/models_artifacts', status='READY', status_message='', tags={}, user_id='', version='1'>"
      ]
     },
     "execution_count": 22,
     "metadata": {},
     "output_type": "execute_result"
    }
   ],
   "source": [
    "client.update_model_version(\n",
    "    name=\"house_pricing_xgboost_model\",\n",
    "    version=1,\n",
    "    description=\"This model will be used for house pricing predictions\",\n",
    ")\n"
   ]
  },
  {
   "cell_type": "code",
   "execution_count": 23,
   "metadata": {},
   "outputs": [
    {
     "data": {
      "text/plain": [
       "'3'"
      ]
     },
     "execution_count": 23,
     "metadata": {},
     "output_type": "execute_result"
    }
   ],
   "source": [
    "m = client.get_latest_versions('house_pricing_xgboost_model')\n",
    "m[0].version\n"
   ]
  },
  {
   "cell_type": "code",
   "execution_count": 24,
   "metadata": {},
   "outputs": [],
   "source": [
    "s3 = boto3.client('s3')\n",
    "s3.download_file('test-bucket-vlad-godel', f'mlflow_artifacts/{requierd_experiment_id}/{requierd_run_id}/artifacts/models_pickle/preprocessor.b', 'preprocessor.b')\n",
    "s3.download_file('test-bucket-vlad-godel', f'mlflow_artifacts/{requierd_experiment_id}/{requierd_run_id}/artifacts/model/model.xgb', 'model.xgb')"
   ]
  },
  {
   "cell_type": "code",
   "execution_count": 25,
   "metadata": {},
   "outputs": [],
   "source": [
    "preprocessor = pickle.load(open('preprocessor.b', 'rb'))"
   ]
  },
  {
   "cell_type": "code",
   "execution_count": 26,
   "metadata": {},
   "outputs": [],
   "source": [
    "X_tr_train = preprocessor.transform(X_train)\n",
    "X_tr_test = preprocessor.transform(X_test)"
   ]
  },
  {
   "cell_type": "code",
   "execution_count": 27,
   "metadata": {},
   "outputs": [],
   "source": [
    "model_xgb = xgb.Booster()\n",
    "model_xgb.load_model(\"model.xgb\")"
   ]
  },
  {
   "cell_type": "code",
   "execution_count": 28,
   "metadata": {},
   "outputs": [],
   "source": [
    "predictions_train = model_xgb.predict(xgb.DMatrix(X_tr_train))\n",
    "predictions_test = model_xgb.predict(xgb.DMatrix(X_tr_test))"
   ]
  },
  {
   "cell_type": "code",
   "execution_count": 29,
   "metadata": {},
   "outputs": [],
   "source": [
    "X_train['predictions'] = predictions_train\n",
    "X_test['predictions'] = predictions_test"
   ]
  },
  {
   "cell_type": "code",
   "execution_count": 30,
   "metadata": {},
   "outputs": [],
   "source": [
    "def calculate_regression_metrics(y_true, y_pred):\n",
    "    metrics = {}\n",
    "    # Mean Squared Error (MSE)\n",
    "    metrics['MSE'] = mean_squared_error(y_true, y_pred)\n",
    "    # Mean Absolute Error (MAE)\n",
    "    metrics['MAE'] = mean_absolute_error(y_true, y_pred)\n",
    "    # R-squared score (R2)\n",
    "    metrics['R2'] = r2_score(y_true, y_pred)\n",
    "    # Root Mean Squared Error (RMSE)\n",
    "    metrics['RMSE'] = np.sqrt(metrics['MSE'])\n",
    "    # Mean Absolute Percentage Error (MAPE)\n",
    "    metrics['MAPE'] = mean_absolute_percentage_error(y_true, y_pred)\n",
    "    \n",
    "    return metrics"
   ]
  },
  {
   "cell_type": "code",
   "execution_count": 31,
   "metadata": {},
   "outputs": [
    {
     "data": {
      "text/html": [
       "<div>\n",
       "<style scoped>\n",
       "    .dataframe tbody tr th:only-of-type {\n",
       "        vertical-align: middle;\n",
       "    }\n",
       "\n",
       "    .dataframe tbody tr th {\n",
       "        vertical-align: top;\n",
       "    }\n",
       "\n",
       "    .dataframe thead th {\n",
       "        text-align: right;\n",
       "    }\n",
       "</style>\n",
       "<table border=\"1\" class=\"dataframe\">\n",
       "  <thead>\n",
       "    <tr style=\"text-align: right;\">\n",
       "      <th></th>\n",
       "      <th>TRAIN</th>\n",
       "      <th>TEST</th>\n",
       "    </tr>\n",
       "  </thead>\n",
       "  <tbody>\n",
       "    <tr>\n",
       "      <th>MSE</th>\n",
       "      <td>516648088.593</td>\n",
       "      <td>525635764.291</td>\n",
       "    </tr>\n",
       "    <tr>\n",
       "      <th>MAE</th>\n",
       "      <td>10047.038</td>\n",
       "      <td>10180.268</td>\n",
       "    </tr>\n",
       "    <tr>\n",
       "      <th>R2</th>\n",
       "      <td>0.970</td>\n",
       "      <td>0.970</td>\n",
       "    </tr>\n",
       "    <tr>\n",
       "      <th>RMSE</th>\n",
       "      <td>22729.894</td>\n",
       "      <td>22926.748</td>\n",
       "    </tr>\n",
       "    <tr>\n",
       "      <th>MAPE</th>\n",
       "      <td>0.028</td>\n",
       "      <td>0.028</td>\n",
       "    </tr>\n",
       "  </tbody>\n",
       "</table>\n",
       "</div>"
      ],
      "text/plain": [
       "             TRAIN          TEST\n",
       "MSE  516648088.593 525635764.291\n",
       "MAE      10047.038     10180.268\n",
       "R2           0.970         0.970\n",
       "RMSE     22729.894     22926.748\n",
       "MAPE         0.028         0.028"
      ]
     },
     "execution_count": 31,
     "metadata": {},
     "output_type": "execute_result"
    }
   ],
   "source": [
    "calculate_regression_metrics(X_train['price'], X_train['predictions'])\n",
    "\n",
    "results = pd.DataFrame({'TRAIN': calculate_regression_metrics(X_train['price'], X_train['predictions']), 'TEST': calculate_regression_metrics(X_test['price'], X_test['predictions'])})\n",
    "results"
   ]
  },
  {
   "cell_type": "code",
   "execution_count": 35,
   "metadata": {},
   "outputs": [
    {
     "data": {
      "text/html": [
       "<div>\n",
       "<style scoped>\n",
       "    .dataframe tbody tr th:only-of-type {\n",
       "        vertical-align: middle;\n",
       "    }\n",
       "\n",
       "    .dataframe tbody tr th {\n",
       "        vertical-align: top;\n",
       "    }\n",
       "\n",
       "    .dataframe thead th {\n",
       "        text-align: right;\n",
       "    }\n",
       "</style>\n",
       "<table border=\"1\" class=\"dataframe\">\n",
       "  <thead>\n",
       "    <tr style=\"text-align: right;\">\n",
       "      <th></th>\n",
       "      <th>price</th>\n",
       "      <th>predictions</th>\n",
       "    </tr>\n",
       "  </thead>\n",
       "  <tbody>\n",
       "    <tr>\n",
       "      <th>33237</th>\n",
       "      <td>185000.000</td>\n",
       "      <td>189409.609</td>\n",
       "    </tr>\n",
       "    <tr>\n",
       "      <th>55874</th>\n",
       "      <td>699000.000</td>\n",
       "      <td>542710.250</td>\n",
       "    </tr>\n",
       "    <tr>\n",
       "      <th>49158</th>\n",
       "      <td>745000.000</td>\n",
       "      <td>733992.688</td>\n",
       "    </tr>\n",
       "    <tr>\n",
       "      <th>46779</th>\n",
       "      <td>495000.000</td>\n",
       "      <td>479441.844</td>\n",
       "    </tr>\n",
       "    <tr>\n",
       "      <th>900</th>\n",
       "      <td>568360.000</td>\n",
       "      <td>568297.000</td>\n",
       "    </tr>\n",
       "    <tr>\n",
       "      <th>37941</th>\n",
       "      <td>249000.000</td>\n",
       "      <td>251599.812</td>\n",
       "    </tr>\n",
       "    <tr>\n",
       "      <th>29159</th>\n",
       "      <td>399000.000</td>\n",
       "      <td>402528.062</td>\n",
       "    </tr>\n",
       "    <tr>\n",
       "      <th>48648</th>\n",
       "      <td>435000.000</td>\n",
       "      <td>456069.781</td>\n",
       "    </tr>\n",
       "    <tr>\n",
       "      <th>55459</th>\n",
       "      <td>290000.000</td>\n",
       "      <td>262284.562</td>\n",
       "    </tr>\n",
       "    <tr>\n",
       "      <th>2594</th>\n",
       "      <td>285000.000</td>\n",
       "      <td>284507.875</td>\n",
       "    </tr>\n",
       "  </tbody>\n",
       "</table>\n",
       "</div>"
      ],
      "text/plain": [
       "           price  predictions\n",
       "33237 185000.000   189409.609\n",
       "55874 699000.000   542710.250\n",
       "49158 745000.000   733992.688\n",
       "46779 495000.000   479441.844\n",
       "900   568360.000   568297.000\n",
       "37941 249000.000   251599.812\n",
       "29159 399000.000   402528.062\n",
       "48648 435000.000   456069.781\n",
       "55459 290000.000   262284.562\n",
       "2594  285000.000   284507.875"
      ]
     },
     "execution_count": 35,
     "metadata": {},
     "output_type": "execute_result"
    }
   ],
   "source": [
    "X_test[['price', 'predictions']].sample(10)"
   ]
  },
  {
   "cell_type": "code",
   "execution_count": null,
   "metadata": {},
   "outputs": [],
   "source": []
  }
 ],
 "metadata": {
  "kernelspec": {
   "display_name": "godel_mlflow_demo-XIgl0c0q",
   "language": "python",
   "name": "python3"
  },
  "language_info": {
   "codemirror_mode": {
    "name": "ipython",
    "version": 3
   },
   "file_extension": ".py",
   "mimetype": "text/x-python",
   "name": "python",
   "nbconvert_exporter": "python",
   "pygments_lexer": "ipython3",
   "version": "3.9.4"
  },
  "orig_nbformat": 4
 },
 "nbformat": 4,
 "nbformat_minor": 2
}
